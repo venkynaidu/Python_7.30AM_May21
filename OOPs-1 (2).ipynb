{
 "cells": [
  {
   "cell_type": "code",
   "execution_count": 9,
   "id": "591b32a7",
   "metadata": {},
   "outputs": [
    {
     "name": "stdout",
     "output_type": "stream",
     "text": [
      "This is the constructor\n",
      "Student name is: Venky\n",
      "Student Marks: 90\n",
      "student ID: 1024\n"
     ]
    }
   ],
   "source": [
    "#creating class and instance method, instance variables\n",
    "class student:\n",
    "    '''This is doct string of student class\n",
    "    Student details will be created and display'''\n",
    "    def __init__(self):\n",
    "        print(\"This is the constructor\")\n",
    "        self.name=\"Venky\"\n",
    "        self.marks=90\n",
    "        self.id=1024\n",
    "    def details(self):\n",
    "        print(\"Student name is:\",self.name)\n",
    "        print(\"Student Marks:\",self.marks)\n",
    "        print(\"student ID:\",self.id)\n",
    "s=student()\n",
    "s.details()"
   ]
  },
  {
   "cell_type": "code",
   "execution_count": 10,
   "id": "362585ae",
   "metadata": {},
   "outputs": [
    {
     "name": "stdout",
     "output_type": "stream",
     "text": [
      "This is doct string of student class\n",
      "    Student details will be created and display\n"
     ]
    }
   ],
   "source": [
    "print(student.__doc__)"
   ]
  },
  {
   "cell_type": "markdown",
   "id": "b91196a2",
   "metadata": {},
   "source": [
    "# Self Variable:"
   ]
  },
  {
   "cell_type": "code",
   "execution_count": null,
   "id": "e04bbc8f",
   "metadata": {},
   "outputs": [],
   "source": [
    "self is the default variable which is always pointing to current object.\n",
    "By using self variable we can access instance variables and instance methods."
   ]
  },
  {
   "cell_type": "markdown",
   "id": "7ab0a50f",
   "metadata": {},
   "source": [
    "# Constructor"
   ]
  },
  {
   "cell_type": "code",
   "execution_count": null,
   "id": "633183cb",
   "metadata": {},
   "outputs": [],
   "source": [
    "1.Constructor is a special method in python.\n",
    "2. The name of the constructor should be __init__(self)\n",
    "3. Constructor will be executed automatically at the time of object creation.\n",
    "4. Main pirpose of constructor is to declare and initialise the instance\n",
    "   variables\n",
    "5. Per object constructor will be executed only once.\n",
    "6. Constructor can take atleast one argument i.e, self\n",
    "7. Constructor is optional if we are not providing any constructor python\n",
    "   creates a default constrcutor.\n"
   ]
  },
  {
   "cell_type": "code",
   "execution_count": 12,
   "id": "18af3894",
   "metadata": {},
   "outputs": [
    {
     "name": "stdout",
     "output_type": "stream",
     "text": [
      "This is the constructor\n",
      "Student name is: Vijay\n",
      "Student Marks: 90\n",
      "student ID: 1024\n"
     ]
    }
   ],
   "source": [
    "#creating class and instance method, instance variables\n",
    "class student:\n",
    "    '''This is doct string of student class\n",
    "    Student details will be created and display'''\n",
    "    def __init__(self,name,marks,ID):\n",
    "        print(\"This is the constructor\")\n",
    "        self.name=name\n",
    "        self.marks=marks\n",
    "        self.ID=ID\n",
    "    def details(self):\n",
    "        print(\"Student name is:\",self.name)\n",
    "        print(\"Student Marks:\",self.marks)\n",
    "        print(\"student ID:\",self.ID)\n",
    "s=student(\"Vijay\",90,1024)\n",
    "s.details()"
   ]
  },
  {
   "cell_type": "markdown",
   "id": "4f92b206",
   "metadata": {},
   "source": [
    "# Types of Variables"
   ]
  },
  {
   "cell_type": "code",
   "execution_count": null,
   "id": "d01e3084",
   "metadata": {},
   "outputs": [],
   "source": [
    "1. Instance Variables(Object Level Variable)\n",
    "2. Static Variables(Class Level Variable)\n",
    "3. Local Variables(Method Level Variable)"
   ]
  },
  {
   "cell_type": "markdown",
   "id": "a9249251",
   "metadata": {},
   "source": [
    "# 1. Instance Variables"
   ]
  },
  {
   "cell_type": "code",
   "execution_count": null,
   "id": "7a6e8d3e",
   "metadata": {},
   "outputs": [],
   "source": [
    "If the value of variable varies from object to object ,then such type of variables are called instance variable.\n",
    "\n",
    "For every object a separate copy of instance variables will be created."
   ]
  },
  {
   "cell_type": "markdown",
   "id": "6b0caa08",
   "metadata": {},
   "source": [
    "# Where we can declare instance variables"
   ]
  },
  {
   "cell_type": "markdown",
   "id": "5927ae8d",
   "metadata": {},
   "source": [
    "1.Inside the constructor by using self vraiable\n",
    "2. Inside instance method by using self variable\n",
    "3. Outside of the class by using object reference variable"
   ]
  },
  {
   "cell_type": "markdown",
   "id": "5b359269",
   "metadata": {},
   "source": [
    "# 1. Inside Constructor by using self variable"
   ]
  },
  {
   "cell_type": "code",
   "execution_count": 6,
   "id": "a3f503ee",
   "metadata": {},
   "outputs": [
    {
     "name": "stdout",
     "output_type": "stream",
     "text": [
      "{'ename': 'Venky', 'eno': 1024, 'salary': 98000}\n",
      "{'ename': 'Venky', 'eno': 1024, 'salary': 98000}\n"
     ]
    }
   ],
   "source": [
    "#Example program for instance variable inside constructor\n",
    "class Employee:\n",
    "    def __init__(self):\n",
    "        self.ename=\"Venky\"\n",
    "        self.eno=1024\n",
    "        self.salary=98000\n",
    "e=Employee()\n",
    "print(e.__dict__)\n",
    "e1=Employee()\n",
    "print(e1.__dict__)"
   ]
  },
  {
   "cell_type": "markdown",
   "id": "df5ed47f",
   "metadata": {},
   "source": [
    "# 2. Inside Instance Method by using self variable"
   ]
  },
  {
   "cell_type": "code",
   "execution_count": 7,
   "id": "b9a208ae",
   "metadata": {},
   "outputs": [
    {
     "name": "stdout",
     "output_type": "stream",
     "text": [
      "{'a': 10, 'b': 20, 'c': 30}\n"
     ]
    }
   ],
   "source": [
    "#example program for instance variables inside instance method\n",
    "class Test:\n",
    "    def __init__(self):\n",
    "        self.a=10\n",
    "        self.b=20\n",
    "    def m(self):\n",
    "        self.c=30\n",
    "t=Test()\n",
    "t.m()\n",
    "print(t.__dict__)"
   ]
  },
  {
   "cell_type": "markdown",
   "id": "0458761d",
   "metadata": {},
   "source": [
    "# 3.  Outside of the class by using object reference variable"
   ]
  },
  {
   "cell_type": "code",
   "execution_count": 8,
   "id": "93d07789",
   "metadata": {},
   "outputs": [
    {
     "name": "stdout",
     "output_type": "stream",
     "text": [
      "{'a': 10, 'b': 20, 'c': 30, 'd': 40}\n"
     ]
    }
   ],
   "source": [
    "class Test:\n",
    "    def __init__(self):\n",
    "        self.a=10\n",
    "        self.b=20\n",
    "    def m(self):\n",
    "        self.c=30\n",
    "t=Test()\n",
    "t.m()\n",
    "t.d=40\n",
    "print(t.__dict__)"
   ]
  },
  {
   "cell_type": "markdown",
   "id": "3f60b695",
   "metadata": {},
   "source": [
    "# How to access Instance Variables"
   ]
  },
  {
   "cell_type": "code",
   "execution_count": null,
   "id": "7dc34de8",
   "metadata": {},
   "outputs": [],
   "source": [
    "We can access instance variables within the class by using self variable, outside of the class by using object reference variable.\n"
   ]
  },
  {
   "cell_type": "code",
   "execution_count": 9,
   "id": "ad84306f",
   "metadata": {},
   "outputs": [
    {
     "name": "stdout",
     "output_type": "stream",
     "text": [
      "A value inside constructor: 10\n",
      "constructor b value in instance method: 20\n",
      "c in instance method: 30\n"
     ]
    }
   ],
   "source": [
    "#example program to access instance variables from inside of the class\n",
    "class Test:\n",
    "    def __init__(self):    #constructor\n",
    "        self.a=10\n",
    "        self.b=20\n",
    "        print(\"A value inside constructor:\",self.a)\n",
    "    def m(self): #instance method\n",
    "        self.c=30\n",
    "        print(\"constructor b value in instance method:\",self.b)\n",
    "        print(\"c in instance method:\",self.c)\n",
    "        \n",
    "t=Test()\n",
    "t.m()\n"
   ]
  },
  {
   "cell_type": "code",
   "execution_count": 10,
   "id": "383a9ec0",
   "metadata": {},
   "outputs": [
    {
     "name": "stdout",
     "output_type": "stream",
     "text": [
      "Instance variable values of constructor in outside of the class: 10 20\n",
      "Instance variable values of instance method from outside of the class: 30 40\n"
     ]
    }
   ],
   "source": [
    "#example program to access instance variable from outside of the class\n",
    "class Test:\n",
    "    def __init__(self):\n",
    "        self.a=10\n",
    "        self.b=20\n",
    "    def m(self):\n",
    "        self.c=30\n",
    "        self.d=40\n",
    "t=Test()\n",
    "t.m()\n",
    "print(\"Instance variable values of constructor in outside of the class:\",t.a,t.b)\n",
    "print(\"Instance variable values of instance method from outside of the class:\",t.c,t.d)"
   ]
  },
  {
   "cell_type": "markdown",
   "id": "edf790ea",
   "metadata": {},
   "source": [
    "# How to delete instance variables from the object"
   ]
  },
  {
   "cell_type": "code",
   "execution_count": null,
   "id": "71f7b850",
   "metadata": {},
   "outputs": [],
   "source": [
    "1. within a class we can delete instance variables with the helf of self variable\n",
    "example: del self.variablename\n",
    "\n",
    "2. From outside of the class we can delete with the help of object reference variable\n",
    "example: del objectreference.variablename\n",
    "    "
   ]
  },
  {
   "cell_type": "code",
   "execution_count": 13,
   "id": "6ac047c8",
   "metadata": {},
   "outputs": [
    {
     "ename": "AttributeError",
     "evalue": "'Test' object has no attribute 'a'",
     "output_type": "error",
     "traceback": [
      "\u001b[1;31m---------------------------------------------------------------------------\u001b[0m",
      "\u001b[1;31mAttributeError\u001b[0m                            Traceback (most recent call last)",
      "\u001b[1;32m<ipython-input-13-97f986803c7e>\u001b[0m in \u001b[0;36m<module>\u001b[1;34m\u001b[0m\n\u001b[0;32m      8\u001b[0m         \u001b[0mprint\u001b[0m\u001b[1;33m(\u001b[0m\u001b[0mself\u001b[0m\u001b[1;33m.\u001b[0m\u001b[0ma\u001b[0m\u001b[1;33m)\u001b[0m\u001b[1;33m\u001b[0m\u001b[1;33m\u001b[0m\u001b[0m\n\u001b[0;32m      9\u001b[0m \u001b[0mt\u001b[0m\u001b[1;33m=\u001b[0m\u001b[0mTest\u001b[0m\u001b[1;33m(\u001b[0m\u001b[1;33m)\u001b[0m\u001b[1;33m\u001b[0m\u001b[1;33m\u001b[0m\u001b[0m\n\u001b[1;32m---> 10\u001b[1;33m \u001b[0mt\u001b[0m\u001b[1;33m.\u001b[0m\u001b[0mm\u001b[0m\u001b[1;33m(\u001b[0m\u001b[1;33m)\u001b[0m\u001b[1;33m\u001b[0m\u001b[1;33m\u001b[0m\u001b[0m\n\u001b[0m",
      "\u001b[1;32m<ipython-input-13-97f986803c7e>\u001b[0m in \u001b[0;36mm\u001b[1;34m(self)\u001b[0m\n\u001b[0;32m      6\u001b[0m     \u001b[1;32mdef\u001b[0m \u001b[0mm\u001b[0m\u001b[1;33m(\u001b[0m\u001b[0mself\u001b[0m\u001b[1;33m)\u001b[0m\u001b[1;33m:\u001b[0m\u001b[1;33m\u001b[0m\u001b[1;33m\u001b[0m\u001b[0m\n\u001b[0;32m      7\u001b[0m         \u001b[1;32mdel\u001b[0m \u001b[0mself\u001b[0m\u001b[1;33m.\u001b[0m\u001b[0ma\u001b[0m\u001b[1;33m\u001b[0m\u001b[1;33m\u001b[0m\u001b[0m\n\u001b[1;32m----> 8\u001b[1;33m         \u001b[0mprint\u001b[0m\u001b[1;33m(\u001b[0m\u001b[0mself\u001b[0m\u001b[1;33m.\u001b[0m\u001b[0ma\u001b[0m\u001b[1;33m)\u001b[0m\u001b[1;33m\u001b[0m\u001b[1;33m\u001b[0m\u001b[0m\n\u001b[0m\u001b[0;32m      9\u001b[0m \u001b[0mt\u001b[0m\u001b[1;33m=\u001b[0m\u001b[0mTest\u001b[0m\u001b[1;33m(\u001b[0m\u001b[1;33m)\u001b[0m\u001b[1;33m\u001b[0m\u001b[1;33m\u001b[0m\u001b[0m\n\u001b[0;32m     10\u001b[0m \u001b[0mt\u001b[0m\u001b[1;33m.\u001b[0m\u001b[0mm\u001b[0m\u001b[1;33m(\u001b[0m\u001b[1;33m)\u001b[0m\u001b[1;33m\u001b[0m\u001b[1;33m\u001b[0m\u001b[0m\n",
      "\u001b[1;31mAttributeError\u001b[0m: 'Test' object has no attribute 'a'"
     ]
    }
   ],
   "source": [
    "#Example Program to delete instance variables from inside of the class\n",
    "class Test:\n",
    "    def __init__(self):\n",
    "        self.a=10\n",
    "        self.b=20\n",
    "    def m(self):\n",
    "        del self.a\n",
    "        print(self.a)\n",
    "t=Test()\n",
    "t.m()"
   ]
  },
  {
   "cell_type": "code",
   "execution_count": 14,
   "id": "8992be21",
   "metadata": {},
   "outputs": [
    {
     "name": "stdout",
     "output_type": "stream",
     "text": [
      "20\n",
      "10\n"
     ]
    },
    {
     "ename": "AttributeError",
     "evalue": "'Test' object has no attribute 'b'",
     "output_type": "error",
     "traceback": [
      "\u001b[1;31m---------------------------------------------------------------------------\u001b[0m",
      "\u001b[1;31mAttributeError\u001b[0m                            Traceback (most recent call last)",
      "\u001b[1;32m<ipython-input-14-ab33bc7c2c94>\u001b[0m in \u001b[0;36m<module>\u001b[1;34m\u001b[0m\n\u001b[0;32m     11\u001b[0m \u001b[1;32mdel\u001b[0m \u001b[0mt\u001b[0m\u001b[1;33m.\u001b[0m\u001b[0ma\u001b[0m\u001b[1;33m\u001b[0m\u001b[1;33m\u001b[0m\u001b[0m\n\u001b[0;32m     12\u001b[0m \u001b[1;32mdel\u001b[0m \u001b[0mt\u001b[0m\u001b[1;33m.\u001b[0m\u001b[0mb\u001b[0m\u001b[1;33m\u001b[0m\u001b[1;33m\u001b[0m\u001b[0m\n\u001b[1;32m---> 13\u001b[1;33m \u001b[0mt\u001b[0m\u001b[1;33m.\u001b[0m\u001b[0mm\u001b[0m\u001b[1;33m(\u001b[0m\u001b[1;33m)\u001b[0m\u001b[1;33m\u001b[0m\u001b[1;33m\u001b[0m\u001b[0m\n\u001b[0m",
      "\u001b[1;32m<ipython-input-14-ab33bc7c2c94>\u001b[0m in \u001b[0;36mm\u001b[1;34m(self)\u001b[0m\n\u001b[0;32m      5\u001b[0m         \u001b[0mself\u001b[0m\u001b[1;33m.\u001b[0m\u001b[0mb\u001b[0m\u001b[1;33m=\u001b[0m\u001b[1;36m20\u001b[0m\u001b[1;33m\u001b[0m\u001b[1;33m\u001b[0m\u001b[0m\n\u001b[0;32m      6\u001b[0m     \u001b[1;32mdef\u001b[0m \u001b[0mm\u001b[0m\u001b[1;33m(\u001b[0m\u001b[0mself\u001b[0m\u001b[1;33m)\u001b[0m\u001b[1;33m:\u001b[0m\u001b[1;33m\u001b[0m\u001b[1;33m\u001b[0m\u001b[0m\n\u001b[1;32m----> 7\u001b[1;33m         \u001b[0mprint\u001b[0m\u001b[1;33m(\u001b[0m\u001b[0mself\u001b[0m\u001b[1;33m.\u001b[0m\u001b[0mb\u001b[0m\u001b[1;33m)\u001b[0m\u001b[1;33m\u001b[0m\u001b[1;33m\u001b[0m\u001b[0m\n\u001b[0m\u001b[0;32m      8\u001b[0m         \u001b[0mprint\u001b[0m\u001b[1;33m(\u001b[0m\u001b[0mself\u001b[0m\u001b[1;33m.\u001b[0m\u001b[0ma\u001b[0m\u001b[1;33m)\u001b[0m\u001b[1;33m\u001b[0m\u001b[1;33m\u001b[0m\u001b[0m\n\u001b[0;32m      9\u001b[0m \u001b[0mt\u001b[0m\u001b[1;33m=\u001b[0m\u001b[0mTest\u001b[0m\u001b[1;33m(\u001b[0m\u001b[1;33m)\u001b[0m\u001b[1;33m\u001b[0m\u001b[1;33m\u001b[0m\u001b[0m\n",
      "\u001b[1;31mAttributeError\u001b[0m: 'Test' object has no attribute 'b'"
     ]
    }
   ],
   "source": [
    "#Example Program to delete instance variables from outside of the class\n",
    "class Test:\n",
    "    def __init__(self):\n",
    "        self.a=10\n",
    "        self.b=20\n",
    "    def m(self):\n",
    "        print(self.b)\n",
    "        print(self.a)\n",
    "t=Test()\n",
    "t.m()\n",
    "del t.a\n",
    "del t.b\n",
    "t.m()"
   ]
  },
  {
   "cell_type": "markdown",
   "id": "a9dfc0b1",
   "metadata": {},
   "source": [
    "### Note: Instance variables which are deleted from one object will not be deleted from other object"
   ]
  },
  {
   "cell_type": "code",
   "execution_count": 18,
   "id": "1bf5fdcd",
   "metadata": {},
   "outputs": [
    {
     "name": "stdout",
     "output_type": "stream",
     "text": [
      "20\n",
      "10\n",
      "20\n",
      "10\n",
      "{}\n",
      "{'a': 10, 'b': 20}\n"
     ]
    }
   ],
   "source": [
    "#Example Program to delete instance variables from outside of the class from different object references\n",
    "class Test:\n",
    "    def __init__(self):\n",
    "        self.a=10\n",
    "        self.b=20\n",
    "    def m(self):\n",
    "        print(self.b) \n",
    "        print(self.a)\n",
    "t1=Test()\n",
    "t2=Test()\n",
    "t1.m()\n",
    "t2.m()\n",
    "del t1.a\n",
    "del t1.b\n",
    "\n",
    "print(t1.__dict__)\n",
    "print(t2.__dict__)"
   ]
  },
  {
   "cell_type": "markdown",
   "id": "7780dd27",
   "metadata": {},
   "source": [
    "# 2. Static Variables"
   ]
  },
  {
   "cell_type": "code",
   "execution_count": null,
   "id": "f311cf61",
   "metadata": {},
   "outputs": [],
   "source": [
    "1. If the value of a variable not varied from object to object. This static variable will be declared inside the class\n",
    "but outside of the methods.\n",
    "2. For total class only one copy of static variables will be created.\n",
    "3. We can access the static variables either by classname or by object reference variable. But it is recommended to use classname\n",
    "to access static variable."
   ]
  },
  {
   "cell_type": "code",
   "execution_count": 3,
   "id": "f786cf60",
   "metadata": {},
   "outputs": [
    {
     "name": "stdout",
     "output_type": "stream",
     "text": [
      "Variables in t1 : 10 20\n",
      "Variables in t2 : 10 20\n",
      "Variables in t1 : 200 300\n",
      "Variables in t2 : 200 20\n"
     ]
    }
   ],
   "source": [
    "#example program for static variables\n",
    "class Test:\n",
    "    x=10 #x is static variable\n",
    "    def __init__(self):\n",
    "        self.y=20 #y is instance variable\n",
    "t1=Test()\n",
    "t2=Test()\n",
    "\n",
    "print(\"Variables in t1 :\",t1.x,t1.y)\n",
    "print(\"Variables in t2 :\",t2.x,t2.y)\n",
    "        \n",
    "Test.x=200\n",
    "t1.y=300\n",
    "print(\"Variables in t1 :\",t1.x,t1.y)\n",
    "print(\"Variables in t2 :\",t2.x,t2.y)"
   ]
  },
  {
   "cell_type": "markdown",
   "id": "02c3383a",
   "metadata": {},
   "source": [
    "# Various places to declare static variables"
   ]
  },
  {
   "cell_type": "code",
   "execution_count": null,
   "id": "8daa8754",
   "metadata": {},
   "outputs": [],
   "source": [
    "1. In general we can declare the static variable within the class but outside of the methods.\n",
    "2. Inside constructor by using classname\n",
    "3. Inside instance method by using classname\n",
    "4. Inside classmethod by using classname or cls variable\n",
    "5. Inside static method by using classname\n"
   ]
  },
  {
   "cell_type": "code",
   "execution_count": 4,
   "id": "c54e50bc",
   "metadata": {},
   "outputs": [
    {
     "name": "stdout",
     "output_type": "stream",
     "text": [
      "{'__module__': '__main__', 'a': 10, '__init__': <function Test.__init__ at 0x0000016F0A150790>, 'm1': <function Test.m1 at 0x0000016F0A17D040>, 'm2': <classmethod object at 0x0000016F0A13C100>, 'm3': <staticmethod object at 0x0000016F0A180E80>, '__dict__': <attribute '__dict__' of 'Test' objects>, '__weakref__': <attribute '__weakref__' of 'Test' objects>, '__doc__': None}\n"
     ]
    }
   ],
   "source": [
    "#example program \n",
    "class Test:\n",
    "    a=10 #static variable inside of class and outside of methods\n",
    "    def __init__(self):\n",
    "        Test.b=20 #b is static variable inside constructor with the help of classname\n",
    "    def m1(self):\n",
    "        Test.c=30 # inside instance method by using classname\n",
    "    @classmethod\n",
    "    def m2(cls):\n",
    "        Test.d=40 #inside classmethod by using classname\n",
    "        cls.e=50 #inside classmethod by using cls variable\n",
    "    @staticmethod\n",
    "    def m3():\n",
    "        Test.f=60 #inside static method by using classname\n",
    "print(Test.__dict__)\n",
    "        "
   ]
  },
  {
   "cell_type": "markdown",
   "id": "ffe541c0",
   "metadata": {},
   "source": [
    "# Accessing of static variables "
   ]
  },
  {
   "cell_type": "code",
   "execution_count": null,
   "id": "7c805c73",
   "metadata": {},
   "outputs": [],
   "source": [
    "1. Iside constructor: by using self variable or classname\n",
    "2. Inside instance method: by usinf self variable or classname\n",
    "3. Inside class method : by using cls variable or classname\n",
    "4. inside staticmethod: by using classname\n",
    "5. Outside of the class: by using classname or object reference variable\n",
    "    "
   ]
  },
  {
   "cell_type": "code",
   "execution_count": 6,
   "id": "c86fb495",
   "metadata": {},
   "outputs": [
    {
     "name": "stdout",
     "output_type": "stream",
     "text": [
      "static variable inside constructor with self: 10\n",
      "Static variable inside constructor with classname: 10\n",
      "Static variable from outside of the class with classname: 10\n",
      "Static variable from outside of the class with object reference variable: 10\n",
      "static variable inside instance method with self: 10\n",
      "Static variable inside instance method with classname: 10\n",
      "static variable inside classmethod with self: 10\n",
      "Static variable inside classmethod with classname: 10\n",
      "Static variable inside staticmethod with classname: 10\n"
     ]
    }
   ],
   "source": [
    "class Test:\n",
    "    a=10\n",
    "    def __init__(self):\n",
    "        print(\"static variable inside constructor with self:\",self.a)\n",
    "        print(\"Static variable inside constructor with classname:\",Test.a)\n",
    "    def m1(self):\n",
    "        print(\"static variable inside instance method with self:\",self.a)\n",
    "        print(\"Static variable inside instance method with classname:\",Test.a)\n",
    "    @classmethod\n",
    "    def m2(cls):\n",
    "        print(\"static variable inside classmethod with self:\",cls.a)\n",
    "        print(\"Static variable inside classmethod with classname:\",Test.a)\n",
    "    @staticmethod\n",
    "    def m3():\n",
    "        print(\"Static variable inside staticmethod with classname:\",Test.a)\n",
    "t=Test()\n",
    "print(\"Static variable from outside of the class with classname:\",Test.a)\n",
    "print(\"Static variable from outside of the class with object reference variable:\",t.a)\n",
    "t.m1()\n",
    "t.m2()\n",
    "t.m3()\n",
    "        "
   ]
  },
  {
   "cell_type": "markdown",
   "id": "95624ff4",
   "metadata": {},
   "source": [
    "# How to delete Static Variable of a class"
   ]
  },
  {
   "cell_type": "code",
   "execution_count": null,
   "id": "f197b747",
   "metadata": {},
   "outputs": [],
   "source": [
    "1. We can delete static variables from anywhere by using the following syntax:\n",
    "    del classname.variablename\n",
    "2. But inside of classmethod we can also use cls variable\n",
    "del cls.variablename\n"
   ]
  },
  {
   "cell_type": "code",
   "execution_count": 11,
   "id": "6066c78b",
   "metadata": {},
   "outputs": [
    {
     "ename": "AttributeError",
     "evalue": "type object 'Test' has no attribute 'a'",
     "output_type": "error",
     "traceback": [
      "\u001b[1;31m---------------------------------------------------------------------------\u001b[0m",
      "\u001b[1;31mAttributeError\u001b[0m                            Traceback (most recent call last)",
      "\u001b[1;32m<ipython-input-11-9e8c3bce1498>\u001b[0m in \u001b[0;36m<module>\u001b[1;34m\u001b[0m\n\u001b[0;32m      6\u001b[0m         \u001b[1;32mdel\u001b[0m \u001b[0mTest\u001b[0m\u001b[1;33m.\u001b[0m\u001b[0ma\u001b[0m\u001b[1;33m\u001b[0m\u001b[1;33m\u001b[0m\u001b[0m\n\u001b[0;32m      7\u001b[0m         \u001b[0mprint\u001b[0m\u001b[1;33m(\u001b[0m\u001b[0mTest\u001b[0m\u001b[1;33m.\u001b[0m\u001b[0ma\u001b[0m\u001b[1;33m)\u001b[0m\u001b[1;33m\u001b[0m\u001b[1;33m\u001b[0m\u001b[0m\n\u001b[1;32m----> 8\u001b[1;33m \u001b[0mt\u001b[0m\u001b[1;33m=\u001b[0m\u001b[0mTest\u001b[0m\u001b[1;33m(\u001b[0m\u001b[1;33m)\u001b[0m\u001b[1;33m\u001b[0m\u001b[1;33m\u001b[0m\u001b[0m\n\u001b[0m",
      "\u001b[1;32m<ipython-input-11-9e8c3bce1498>\u001b[0m in \u001b[0;36m__init__\u001b[1;34m(self)\u001b[0m\n\u001b[0;32m      5\u001b[0m     \u001b[1;32mdef\u001b[0m \u001b[0m__init__\u001b[0m\u001b[1;33m(\u001b[0m\u001b[0mself\u001b[0m\u001b[1;33m)\u001b[0m\u001b[1;33m:\u001b[0m\u001b[1;33m\u001b[0m\u001b[1;33m\u001b[0m\u001b[0m\n\u001b[0;32m      6\u001b[0m         \u001b[1;32mdel\u001b[0m \u001b[0mTest\u001b[0m\u001b[1;33m.\u001b[0m\u001b[0ma\u001b[0m\u001b[1;33m\u001b[0m\u001b[1;33m\u001b[0m\u001b[0m\n\u001b[1;32m----> 7\u001b[1;33m         \u001b[0mprint\u001b[0m\u001b[1;33m(\u001b[0m\u001b[0mTest\u001b[0m\u001b[1;33m.\u001b[0m\u001b[0ma\u001b[0m\u001b[1;33m)\u001b[0m\u001b[1;33m\u001b[0m\u001b[1;33m\u001b[0m\u001b[0m\n\u001b[0m\u001b[0;32m      8\u001b[0m \u001b[0mt\u001b[0m\u001b[1;33m=\u001b[0m\u001b[0mTest\u001b[0m\u001b[1;33m(\u001b[0m\u001b[1;33m)\u001b[0m\u001b[1;33m\u001b[0m\u001b[1;33m\u001b[0m\u001b[0m\n",
      "\u001b[1;31mAttributeError\u001b[0m: type object 'Test' has no attribute 'a'"
     ]
    }
   ],
   "source": [
    "#deletion of static variable inside constructor\n",
    "class Test:\n",
    "    a=10\n",
    "    b=20\n",
    "    c=30\n",
    "    def __init__(self):\n",
    "        del Test.a\n",
    "        print(Test.a)\n",
    "t=Test()"
   ]
  },
  {
   "cell_type": "code",
   "execution_count": 14,
   "id": "a8ec2da8",
   "metadata": {},
   "outputs": [
    {
     "ename": "AttributeError",
     "evalue": "type object 'Test' has no attribute 'a'",
     "output_type": "error",
     "traceback": [
      "\u001b[1;31m---------------------------------------------------------------------------\u001b[0m",
      "\u001b[1;31mAttributeError\u001b[0m                            Traceback (most recent call last)",
      "\u001b[1;32m<ipython-input-14-26c050da871f>\u001b[0m in \u001b[0;36m<module>\u001b[1;34m\u001b[0m\n\u001b[0;32m     12\u001b[0m \u001b[1;33m\u001b[0m\u001b[0m\n\u001b[0;32m     13\u001b[0m \u001b[0mt\u001b[0m\u001b[1;33m=\u001b[0m\u001b[0mTest\u001b[0m\u001b[1;33m(\u001b[0m\u001b[1;33m)\u001b[0m\u001b[1;33m\u001b[0m\u001b[1;33m\u001b[0m\u001b[0m\n\u001b[1;32m---> 14\u001b[1;33m \u001b[0mt\u001b[0m\u001b[1;33m.\u001b[0m\u001b[0mm\u001b[0m\u001b[1;33m(\u001b[0m\u001b[1;33m)\u001b[0m\u001b[1;33m\u001b[0m\u001b[1;33m\u001b[0m\u001b[0m\n\u001b[0m",
      "\u001b[1;32m<ipython-input-14-26c050da871f>\u001b[0m in \u001b[0;36mm\u001b[1;34m(self)\u001b[0m\n\u001b[0;32m      9\u001b[0m     \u001b[1;32mdef\u001b[0m \u001b[0mm\u001b[0m\u001b[1;33m(\u001b[0m\u001b[0mself\u001b[0m\u001b[1;33m)\u001b[0m\u001b[1;33m:\u001b[0m\u001b[1;33m\u001b[0m\u001b[1;33m\u001b[0m\u001b[0m\n\u001b[0;32m     10\u001b[0m         \u001b[1;32mdel\u001b[0m \u001b[0mTest\u001b[0m\u001b[1;33m.\u001b[0m\u001b[0ma\u001b[0m\u001b[1;33m\u001b[0m\u001b[1;33m\u001b[0m\u001b[0m\n\u001b[1;32m---> 11\u001b[1;33m         \u001b[0mprint\u001b[0m\u001b[1;33m(\u001b[0m\u001b[0mTest\u001b[0m\u001b[1;33m.\u001b[0m\u001b[0ma\u001b[0m\u001b[1;33m)\u001b[0m\u001b[1;33m\u001b[0m\u001b[1;33m\u001b[0m\u001b[0m\n\u001b[0m\u001b[0;32m     12\u001b[0m \u001b[1;33m\u001b[0m\u001b[0m\n\u001b[0;32m     13\u001b[0m \u001b[0mt\u001b[0m\u001b[1;33m=\u001b[0m\u001b[0mTest\u001b[0m\u001b[1;33m(\u001b[0m\u001b[1;33m)\u001b[0m\u001b[1;33m\u001b[0m\u001b[1;33m\u001b[0m\u001b[0m\n",
      "\u001b[1;31mAttributeError\u001b[0m: type object 'Test' has no attribute 'a'"
     ]
    }
   ],
   "source": [
    "\n",
    "#deletion of static variable inside instance method\n",
    "class Test:\n",
    "    a=10\n",
    "    b=20\n",
    "    c=30\n",
    "    def __init__(self):\n",
    "        #del Test.a\n",
    "        pass\n",
    "    def m(self):\n",
    "        del Test.a\n",
    "        print(Test.a)\n",
    "    \n",
    "t=Test()\n",
    "t.m()\n"
   ]
  },
  {
   "cell_type": "code",
   "execution_count": 17,
   "id": "a1de7cbf",
   "metadata": {},
   "outputs": [
    {
     "name": "stdout",
     "output_type": "stream",
     "text": [
      "10\n"
     ]
    }
   ],
   "source": [
    "#deletion of static variable inside class method with classname\n",
    "class Test:\n",
    "    a=10\n",
    "    b=20\n",
    "    c=30\n",
    "    def __init__(self):\n",
    "        #del Test.a\n",
    "        pass\n",
    "    def m(self):\n",
    "        pass\n",
    "    @classmethod\n",
    "    def m1(cls):\n",
    "        del Test.a\n",
    "        print(Test.a)\n",
    "    \n",
    "t=Test()\n",
    "t.m()\n",
    "t.m1()"
   ]
  },
  {
   "cell_type": "code",
   "execution_count": 19,
   "id": "2fee234a",
   "metadata": {},
   "outputs": [
    {
     "name": "stdout",
     "output_type": "stream",
     "text": [
      "10\n"
     ]
    }
   ],
   "source": [
    "#deletion of static variable inside class method with cls variable\n",
    "class Test:\n",
    "    a=10\n",
    "    b=20\n",
    "    c=30\n",
    "    def __init__(self):\n",
    "        #del Test.a\n",
    "        pass\n",
    "    def m(self):\n",
    "        pass\n",
    "    @classmethod\n",
    "    def m1(cls):\n",
    "        del cls.a\n",
    "        print(Test.a)\n",
    "    \n",
    "t=Test()\n",
    "t.m()\n",
    "t.m1()"
   ]
  },
  {
   "cell_type": "code",
   "execution_count": 21,
   "id": "8fff294b",
   "metadata": {},
   "outputs": [
    {
     "name": "stdout",
     "output_type": "stream",
     "text": [
      "10\n"
     ]
    }
   ],
   "source": [
    "#deletion of static variable inside static method with classname\n",
    "class Test:\n",
    "    a=10\n",
    "    b=20\n",
    "    c=30\n",
    "    def __init__(self):\n",
    "        #del Test.a\n",
    "        pass\n",
    "    def m(self):\n",
    "        pass\n",
    "    @classmethod\n",
    "    def m1(cls):\n",
    "        pass\n",
    "    @staticmethod\n",
    "    def m2():\n",
    "        del Test.a\n",
    "        print(Test.a)\n",
    "    \n",
    "t=Test()\n",
    "t.m()\n",
    "t.m1()\n",
    "t.m2()"
   ]
  },
  {
   "cell_type": "code",
   "execution_count": 25,
   "id": "cef5ec5d",
   "metadata": {},
   "outputs": [
    {
     "ename": "AttributeError",
     "evalue": "type object 'Test' has no attribute 'a'",
     "output_type": "error",
     "traceback": [
      "\u001b[1;31m---------------------------------------------------------------------------\u001b[0m",
      "\u001b[1;31mAttributeError\u001b[0m                            Traceback (most recent call last)",
      "\u001b[1;32m<ipython-input-25-75fa6f1cb127>\u001b[0m in \u001b[0;36m<module>\u001b[1;34m\u001b[0m\n\u001b[0;32m     23\u001b[0m \u001b[0mt\u001b[0m\u001b[1;33m.\u001b[0m\u001b[0mm2\u001b[0m\u001b[1;33m(\u001b[0m\u001b[1;33m)\u001b[0m\u001b[1;33m\u001b[0m\u001b[1;33m\u001b[0m\u001b[0m\n\u001b[0;32m     24\u001b[0m \u001b[1;32mdel\u001b[0m \u001b[0mTest\u001b[0m\u001b[1;33m.\u001b[0m\u001b[0ma\u001b[0m\u001b[1;33m\u001b[0m\u001b[1;33m\u001b[0m\u001b[0m\n\u001b[1;32m---> 25\u001b[1;33m \u001b[0mprint\u001b[0m\u001b[1;33m(\u001b[0m\u001b[0mTest\u001b[0m\u001b[1;33m.\u001b[0m\u001b[0ma\u001b[0m\u001b[1;33m)\u001b[0m\u001b[1;33m\u001b[0m\u001b[1;33m\u001b[0m\u001b[0m\n\u001b[0m",
      "\u001b[1;31mAttributeError\u001b[0m: type object 'Test' has no attribute 'a'"
     ]
    }
   ],
   "source": [
    "#deletion of static variable inside static method with classname\n",
    "class Test:\n",
    "    a=10\n",
    "    b=20\n",
    "    c=30\n",
    "    def __init__(self):\n",
    "        #del Test.a\n",
    "        pass\n",
    "    def m(self):\n",
    "        pass\n",
    "    @classmethod\n",
    "    def m1(cls):\n",
    "        pass\n",
    "    @staticmethod\n",
    "    def m2():\n",
    "        #del Test.a\n",
    "        #print(Test.a)\n",
    "        pass\n",
    "    \n",
    "t=Test()\n",
    "t.m()\n",
    "t.m1()\n",
    "t.m2()\n",
    "del Test.a\n",
    "print(Test.a)"
   ]
  },
  {
   "cell_type": "markdown",
   "id": "fbb0a816",
   "metadata": {},
   "source": [
    "# 3.Local Variables"
   ]
  },
  {
   "cell_type": "code",
   "execution_count": 26,
   "id": "b793a8b9",
   "metadata": {},
   "outputs": [
    {
     "name": "stdout",
     "output_type": "stream",
     "text": [
      "100\n"
     ]
    },
    {
     "ename": "NameError",
     "evalue": "name 'a' is not defined",
     "output_type": "error",
     "traceback": [
      "\u001b[1;31m---------------------------------------------------------------------------\u001b[0m",
      "\u001b[1;31mNameError\u001b[0m                                 Traceback (most recent call last)",
      "\u001b[1;32m<ipython-input-26-3b127f7982a1>\u001b[0m in \u001b[0;36m<module>\u001b[1;34m\u001b[0m\n\u001b[0;32m      7\u001b[0m \u001b[0mt\u001b[0m\u001b[1;33m=\u001b[0m\u001b[0mTest\u001b[0m\u001b[1;33m(\u001b[0m\u001b[1;33m)\u001b[0m\u001b[1;33m\u001b[0m\u001b[1;33m\u001b[0m\u001b[0m\n\u001b[0;32m      8\u001b[0m \u001b[0mt\u001b[0m\u001b[1;33m.\u001b[0m\u001b[0mm1\u001b[0m\u001b[1;33m(\u001b[0m\u001b[1;33m)\u001b[0m\u001b[1;33m\u001b[0m\u001b[1;33m\u001b[0m\u001b[0m\n\u001b[1;32m----> 9\u001b[1;33m \u001b[0mt\u001b[0m\u001b[1;33m.\u001b[0m\u001b[0mm2\u001b[0m\u001b[1;33m(\u001b[0m\u001b[1;33m)\u001b[0m\u001b[1;33m\u001b[0m\u001b[1;33m\u001b[0m\u001b[0m\n\u001b[0m",
      "\u001b[1;32m<ipython-input-26-3b127f7982a1>\u001b[0m in \u001b[0;36mm2\u001b[1;34m(self)\u001b[0m\n\u001b[0;32m      4\u001b[0m         \u001b[0mprint\u001b[0m\u001b[1;33m(\u001b[0m\u001b[0ma\u001b[0m\u001b[1;33m)\u001b[0m\u001b[1;33m\u001b[0m\u001b[1;33m\u001b[0m\u001b[0m\n\u001b[0;32m      5\u001b[0m     \u001b[1;32mdef\u001b[0m \u001b[0mm2\u001b[0m\u001b[1;33m(\u001b[0m\u001b[0mself\u001b[0m\u001b[1;33m)\u001b[0m\u001b[1;33m:\u001b[0m\u001b[1;33m\u001b[0m\u001b[1;33m\u001b[0m\u001b[0m\n\u001b[1;32m----> 6\u001b[1;33m         \u001b[0mprint\u001b[0m\u001b[1;33m(\u001b[0m\u001b[0ma\u001b[0m\u001b[1;33m)\u001b[0m\u001b[1;33m\u001b[0m\u001b[1;33m\u001b[0m\u001b[0m\n\u001b[0m\u001b[0;32m      7\u001b[0m \u001b[0mt\u001b[0m\u001b[1;33m=\u001b[0m\u001b[0mTest\u001b[0m\u001b[1;33m(\u001b[0m\u001b[1;33m)\u001b[0m\u001b[1;33m\u001b[0m\u001b[1;33m\u001b[0m\u001b[0m\n\u001b[0;32m      8\u001b[0m \u001b[0mt\u001b[0m\u001b[1;33m.\u001b[0m\u001b[0mm1\u001b[0m\u001b[1;33m(\u001b[0m\u001b[1;33m)\u001b[0m\u001b[1;33m\u001b[0m\u001b[1;33m\u001b[0m\u001b[0m\n",
      "\u001b[1;31mNameError\u001b[0m: name 'a' is not defined"
     ]
    }
   ],
   "source": [
    "class Test:\n",
    "    def m1(self):\n",
    "        a=100\n",
    "        print(a)\n",
    "    def m2(self):\n",
    "        print(a)\n",
    "t=Test()\n",
    "t.m1()\n",
    "t.m2()"
   ]
  }
 ],
 "metadata": {
  "kernelspec": {
   "display_name": "Python 3",
   "language": "python",
   "name": "python3"
  },
  "language_info": {
   "codemirror_mode": {
    "name": "ipython",
    "version": 3
   },
   "file_extension": ".py",
   "mimetype": "text/x-python",
   "name": "python",
   "nbconvert_exporter": "python",
   "pygments_lexer": "ipython3",
   "version": "3.8.8"
  }
 },
 "nbformat": 4,
 "nbformat_minor": 5
}
