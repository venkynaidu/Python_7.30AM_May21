{
 "cells": [
  {
   "cell_type": "code",
   "execution_count": 1,
   "id": "fc7e229a",
   "metadata": {},
   "outputs": [],
   "source": [
    "#Example program for sample user defined function\n",
    "def wish():\n",
    "    print(\"Hello Good Morning\")"
   ]
  },
  {
   "cell_type": "code",
   "execution_count": 2,
   "id": "c8e0fada",
   "metadata": {},
   "outputs": [
    {
     "name": "stdout",
     "output_type": "stream",
     "text": [
      "Hello Good Morning\n"
     ]
    }
   ],
   "source": [
    "wish()"
   ]
  },
  {
   "cell_type": "code",
   "execution_count": 3,
   "id": "2cbaeb55",
   "metadata": {},
   "outputs": [
    {
     "name": "stdout",
     "output_type": "stream",
     "text": [
      "Hello Good Morning\n"
     ]
    }
   ],
   "source": [
    "wish()"
   ]
  },
  {
   "cell_type": "code",
   "execution_count": 4,
   "id": "c08669ba",
   "metadata": {},
   "outputs": [
    {
     "name": "stdout",
     "output_type": "stream",
     "text": [
      "Hello Good Morning\n"
     ]
    }
   ],
   "source": [
    "wish()"
   ]
  },
  {
   "cell_type": "markdown",
   "id": "d9c14e17",
   "metadata": {},
   "source": [
    "# Function with parameters"
   ]
  },
  {
   "cell_type": "code",
   "execution_count": 5,
   "id": "91fb28a4",
   "metadata": {},
   "outputs": [
    {
     "name": "stdout",
     "output_type": "stream",
     "text": [
      "Hello Venky Good Morning\n"
     ]
    }
   ],
   "source": [
    "#function with parameters\n",
    "def wish(name):\n",
    "    print(\"Hello\",name,\"Good Morning\")\n",
    "wish(\"Venky\")"
   ]
  },
  {
   "cell_type": "code",
   "execution_count": 6,
   "id": "46e2e518",
   "metadata": {},
   "outputs": [
    {
     "name": "stdout",
     "output_type": "stream",
     "text": [
      "Hello Vijay Good Morning\n"
     ]
    }
   ],
   "source": [
    "wish(\"Vijay\")"
   ]
  },
  {
   "cell_type": "code",
   "execution_count": 7,
   "id": "29864ff4",
   "metadata": {},
   "outputs": [
    {
     "name": "stdout",
     "output_type": "stream",
     "text": [
      "Hello Venky Good Morning\n"
     ]
    }
   ],
   "source": [
    "def wish(name):\n",
    "    if name==\"Guest\":\n",
    "        print(\"Hello ! Welcome to our Dark Web\")\n",
    "    else:\n",
    "        print(\"Hello\",name,\"Good Morning\")\n",
    "wish(\"Venky\")"
   ]
  },
  {
   "cell_type": "code",
   "execution_count": 8,
   "id": "3e13aa2b",
   "metadata": {},
   "outputs": [
    {
     "name": "stdout",
     "output_type": "stream",
     "text": [
      "Hello ! Welcome to our Dark Web\n"
     ]
    }
   ],
   "source": [
    "wish(\"Guest\")"
   ]
  },
  {
   "cell_type": "markdown",
   "id": "0e991046",
   "metadata": {},
   "source": [
    "# Function with return"
   ]
  },
  {
   "cell_type": "code",
   "execution_count": 9,
   "id": "85f37da4",
   "metadata": {},
   "outputs": [
    {
     "name": "stdout",
     "output_type": "stream",
     "text": [
      "Add of a,b is: 30\n"
     ]
    }
   ],
   "source": [
    "def add(a,b):\n",
    "    c=a+b\n",
    "    return c\n",
    "x=add(10,20)\n",
    "print(\"Add of a,b is:\",x)"
   ]
  },
  {
   "cell_type": "markdown",
   "id": "e7531e43",
   "metadata": {},
   "source": [
    "# Returning multiple values from function"
   ]
  },
  {
   "cell_type": "code",
   "execution_count": 10,
   "id": "c0523e54",
   "metadata": {},
   "outputs": [
    {
     "name": "stdout",
     "output_type": "stream",
     "text": [
      "Sum is: 8\n",
      "Sub is: 2\n"
     ]
    }
   ],
   "source": [
    "def sum_sub(a,b):\n",
    "    x=a+b\n",
    "    y=a-b\n",
    "    return x,y\n",
    "p,q=sum_sub(5,3)\n",
    "print(\"Sum is:\",p)\n",
    "print(\"Sub is:\",q)"
   ]
  },
  {
   "cell_type": "code",
   "execution_count": 11,
   "id": "806ec263",
   "metadata": {},
   "outputs": [],
   "source": [
    "a=10\n",
    "b=20\n",
    "c=30\n",
    "t=(a,b,c)"
   ]
  },
  {
   "cell_type": "code",
   "execution_count": 12,
   "id": "d32a636f",
   "metadata": {},
   "outputs": [
    {
     "name": "stdout",
     "output_type": "stream",
     "text": [
      "(10, 20, 30)\n"
     ]
    }
   ],
   "source": [
    "print(t)"
   ]
  },
  {
   "cell_type": "code",
   "execution_count": 13,
   "id": "4a8eb091",
   "metadata": {},
   "outputs": [],
   "source": [
    "x,y,z=t"
   ]
  },
  {
   "cell_type": "code",
   "execution_count": 14,
   "id": "4457be88",
   "metadata": {},
   "outputs": [
    {
     "data": {
      "text/plain": [
       "10"
      ]
     },
     "execution_count": 14,
     "metadata": {},
     "output_type": "execute_result"
    }
   ],
   "source": [
    "x"
   ]
  },
  {
   "cell_type": "code",
   "execution_count": 15,
   "id": "fac0c2d1",
   "metadata": {},
   "outputs": [
    {
     "name": "stdout",
     "output_type": "stream",
     "text": [
      "(7, 3, 2.5, 10)\n"
     ]
    }
   ],
   "source": [
    "#calc\n",
    "def calc(a,b):\n",
    "    x=a+b\n",
    "    y=a-b\n",
    "    d=a/b\n",
    "    m=a*b\n",
    "    return x,y,d,m\n",
    "result=calc(5,2)\n",
    "print(result)"
   ]
  },
  {
   "cell_type": "code",
   "execution_count": 17,
   "id": "7bd46ecf",
   "metadata": {},
   "outputs": [
    {
     "name": "stdout",
     "output_type": "stream",
     "text": [
      "7\n",
      "3\n",
      "2.5\n",
      "10\n"
     ]
    }
   ],
   "source": [
    "for i in result:\n",
    "    print(i)"
   ]
  },
  {
   "cell_type": "markdown",
   "id": "ba23d516",
   "metadata": {},
   "source": [
    "# Types of Arguments"
   ]
  },
  {
   "cell_type": "code",
   "execution_count": null,
   "id": "261503ed",
   "metadata": {},
   "outputs": [],
   "source": [
    "1. Positional Arguments\n",
    "2. Keyword Arguments\n",
    "3. Default Arguments\n",
    "4. Variable Length of arguments"
   ]
  },
  {
   "cell_type": "markdown",
   "id": "8d645b59",
   "metadata": {},
   "source": [
    "# 1. Positional Arguments"
   ]
  },
  {
   "cell_type": "code",
   "execution_count": 18,
   "id": "c62bb633",
   "metadata": {},
   "outputs": [
    {
     "name": "stdout",
     "output_type": "stream",
     "text": [
      "-10\n"
     ]
    }
   ],
   "source": [
    "def sub(a,b):\n",
    "    r=a-b\n",
    "    print(r)\n",
    "sub(10,20)"
   ]
  },
  {
   "cell_type": "code",
   "execution_count": 19,
   "id": "f6572a1e",
   "metadata": {},
   "outputs": [
    {
     "name": "stdout",
     "output_type": "stream",
     "text": [
      "10\n"
     ]
    }
   ],
   "source": [
    "sub(20,10)"
   ]
  },
  {
   "cell_type": "code",
   "execution_count": 20,
   "id": "00e8b854",
   "metadata": {},
   "outputs": [
    {
     "ename": "TypeError",
     "evalue": "sub() missing 1 required positional argument: 'b'",
     "output_type": "error",
     "traceback": [
      "\u001b[1;31m---------------------------------------------------------------------------\u001b[0m",
      "\u001b[1;31mTypeError\u001b[0m                                 Traceback (most recent call last)",
      "\u001b[1;32m<ipython-input-20-61d070ce9535>\u001b[0m in \u001b[0;36m<module>\u001b[1;34m\u001b[0m\n\u001b[1;32m----> 1\u001b[1;33m \u001b[0msub\u001b[0m\u001b[1;33m(\u001b[0m\u001b[1;36m10\u001b[0m\u001b[1;33m)\u001b[0m\u001b[1;33m\u001b[0m\u001b[1;33m\u001b[0m\u001b[0m\n\u001b[0m",
      "\u001b[1;31mTypeError\u001b[0m: sub() missing 1 required positional argument: 'b'"
     ]
    }
   ],
   "source": [
    "sub(10)"
   ]
  },
  {
   "cell_type": "code",
   "execution_count": 21,
   "id": "975065dd",
   "metadata": {},
   "outputs": [
    {
     "ename": "TypeError",
     "evalue": "sub() takes 2 positional arguments but 3 were given",
     "output_type": "error",
     "traceback": [
      "\u001b[1;31m---------------------------------------------------------------------------\u001b[0m",
      "\u001b[1;31mTypeError\u001b[0m                                 Traceback (most recent call last)",
      "\u001b[1;32m<ipython-input-21-ada16b3b10f1>\u001b[0m in \u001b[0;36m<module>\u001b[1;34m\u001b[0m\n\u001b[1;32m----> 1\u001b[1;33m \u001b[0msub\u001b[0m\u001b[1;33m(\u001b[0m\u001b[1;36m10\u001b[0m\u001b[1;33m,\u001b[0m\u001b[1;36m20\u001b[0m\u001b[1;33m,\u001b[0m\u001b[1;36m30\u001b[0m\u001b[1;33m)\u001b[0m\u001b[1;33m\u001b[0m\u001b[1;33m\u001b[0m\u001b[0m\n\u001b[0m",
      "\u001b[1;31mTypeError\u001b[0m: sub() takes 2 positional arguments but 3 were given"
     ]
    }
   ],
   "source": [
    "sub(10,20,30)"
   ]
  },
  {
   "cell_type": "markdown",
   "id": "e68cf509",
   "metadata": {},
   "source": [
    "# 2. Keyword Arguments"
   ]
  },
  {
   "cell_type": "code",
   "execution_count": 22,
   "id": "106cdd35",
   "metadata": {},
   "outputs": [
    {
     "name": "stdout",
     "output_type": "stream",
     "text": [
      "Hello Venky Good Morning\n"
     ]
    }
   ],
   "source": [
    "def wish(name,msg):\n",
    "    print(\"Hello\",name,msg)\n",
    "wish(\"Venky\",\"Good Morning\")"
   ]
  },
  {
   "cell_type": "code",
   "execution_count": 23,
   "id": "b528e193",
   "metadata": {},
   "outputs": [
    {
     "name": "stdout",
     "output_type": "stream",
     "text": [
      "Hello Good Morning Venky\n"
     ]
    }
   ],
   "source": [
    "wish(\"Good Morning\",\"Venky\")"
   ]
  },
  {
   "cell_type": "code",
   "execution_count": 24,
   "id": "16a3ff7b",
   "metadata": {},
   "outputs": [
    {
     "name": "stdout",
     "output_type": "stream",
     "text": [
      "Hello Venky Good Morning\n"
     ]
    }
   ],
   "source": [
    "wish(name=\"Venky\",msg=\"Good Morning\")"
   ]
  },
  {
   "cell_type": "code",
   "execution_count": 25,
   "id": "b3c7c27a",
   "metadata": {},
   "outputs": [
    {
     "name": "stdout",
     "output_type": "stream",
     "text": [
      "Hello Venky Good Morning\n"
     ]
    }
   ],
   "source": [
    "wish(msg=\"Good Morning\",name=\"Venky\")"
   ]
  },
  {
   "cell_type": "markdown",
   "id": "a53a6a8c",
   "metadata": {},
   "source": [
    "# combining postitional arguments with keyword arguments"
   ]
  },
  {
   "cell_type": "code",
   "execution_count": 26,
   "id": "5988840a",
   "metadata": {},
   "outputs": [
    {
     "ename": "SyntaxError",
     "evalue": "positional argument follows keyword argument (<ipython-input-26-57c9e1687f59>, line 3)",
     "output_type": "error",
     "traceback": [
      "\u001b[1;36m  File \u001b[1;32m\"<ipython-input-26-57c9e1687f59>\"\u001b[1;36m, line \u001b[1;32m3\u001b[0m\n\u001b[1;33m    wish(name=\"Venky\",\"Good Morning\")\u001b[0m\n\u001b[1;37m                      ^\u001b[0m\n\u001b[1;31mSyntaxError\u001b[0m\u001b[1;31m:\u001b[0m positional argument follows keyword argument\n"
     ]
    }
   ],
   "source": [
    "def wish(name,msg):\n",
    "    print(\"Hello\",name,msg)\n",
    "wish(name=\"Venky\",\"Good Morning\")\n"
   ]
  },
  {
   "cell_type": "code",
   "execution_count": 27,
   "id": "99ea5ff0",
   "metadata": {},
   "outputs": [
    {
     "name": "stdout",
     "output_type": "stream",
     "text": [
      "Hello Venky Good Morning\n"
     ]
    }
   ],
   "source": [
    "def wish(name,msg):\n",
    "    print(\"Hello\",name,msg)\n",
    "wish(\"Venky\",msg=\"Good Morning\")\n"
   ]
  },
  {
   "cell_type": "markdown",
   "id": "1ea60e19",
   "metadata": {},
   "source": [
    "# 3. Default Arguments"
   ]
  },
  {
   "cell_type": "code",
   "execution_count": 28,
   "id": "6b770771",
   "metadata": {},
   "outputs": [
    {
     "name": "stdout",
     "output_type": "stream",
     "text": [
      "Hello Venky Good Morning\n"
     ]
    }
   ],
   "source": [
    "def wish(name=\"Guest\"):\n",
    "    print(\"Hello\",name,\"Good Morning\")\n",
    "wish(\"Venky\")"
   ]
  },
  {
   "cell_type": "code",
   "execution_count": null,
   "id": "d51d97b4",
   "metadata": {},
   "outputs": [],
   "source": []
  },
  {
   "cell_type": "code",
   "execution_count": 29,
   "id": "b62df8ab",
   "metadata": {},
   "outputs": [
    {
     "name": "stdout",
     "output_type": "stream",
     "text": [
      "Hello Guest Good Morning\n"
     ]
    }
   ],
   "source": [
    "wish()"
   ]
  },
  {
   "cell_type": "code",
   "execution_count": 30,
   "id": "f76d78bf",
   "metadata": {},
   "outputs": [
    {
     "name": "stdout",
     "output_type": "stream",
     "text": [
      "Hello Venky Good Morning\n"
     ]
    }
   ],
   "source": [
    "def wish(name):\n",
    "    print(\"Hello\",name,\"Good Morning\")\n",
    "wish(\"Venky\")"
   ]
  },
  {
   "cell_type": "code",
   "execution_count": 31,
   "id": "e028ee15",
   "metadata": {},
   "outputs": [
    {
     "ename": "TypeError",
     "evalue": "wish() missing 1 required positional argument: 'name'",
     "output_type": "error",
     "traceback": [
      "\u001b[1;31m---------------------------------------------------------------------------\u001b[0m",
      "\u001b[1;31mTypeError\u001b[0m                                 Traceback (most recent call last)",
      "\u001b[1;32m<ipython-input-31-c0e1380c0921>\u001b[0m in \u001b[0;36m<module>\u001b[1;34m\u001b[0m\n\u001b[1;32m----> 1\u001b[1;33m \u001b[0mwish\u001b[0m\u001b[1;33m(\u001b[0m\u001b[1;33m)\u001b[0m\u001b[1;33m\u001b[0m\u001b[1;33m\u001b[0m\u001b[0m\n\u001b[0m",
      "\u001b[1;31mTypeError\u001b[0m: wish() missing 1 required positional argument: 'name'"
     ]
    }
   ],
   "source": [
    "wish()"
   ]
  },
  {
   "cell_type": "markdown",
   "id": "6d73f447",
   "metadata": {},
   "source": [
    "# 4. Varibale Length of Arguments"
   ]
  },
  {
   "cell_type": "code",
   "execution_count": 32,
   "id": "ee924e64",
   "metadata": {},
   "outputs": [
    {
     "name": "stdout",
     "output_type": "stream",
     "text": [
      "Sum is: 10\n"
     ]
    }
   ],
   "source": [
    "def sum(*n):\n",
    "    sum=0\n",
    "    for i in n:\n",
    "        sum=sum+i\n",
    "    print(\"Sum is:\",sum)\n",
    "sum(10)"
   ]
  },
  {
   "cell_type": "code",
   "execution_count": 33,
   "id": "3fe50108",
   "metadata": {},
   "outputs": [
    {
     "name": "stdout",
     "output_type": "stream",
     "text": [
      "Sum is: 0\n"
     ]
    }
   ],
   "source": [
    "sum()"
   ]
  },
  {
   "cell_type": "code",
   "execution_count": 34,
   "id": "c00bae29",
   "metadata": {},
   "outputs": [
    {
     "name": "stdout",
     "output_type": "stream",
     "text": [
      "Sum is: 30\n"
     ]
    }
   ],
   "source": [
    "sum(10,20)"
   ]
  },
  {
   "cell_type": "code",
   "execution_count": 35,
   "id": "42e84926",
   "metadata": {},
   "outputs": [
    {
     "name": "stdout",
     "output_type": "stream",
     "text": [
      "Sum is: 60\n"
     ]
    }
   ],
   "source": [
    "sum(10,20,30)"
   ]
  }
 ],
 "metadata": {
  "kernelspec": {
   "display_name": "Python 3",
   "language": "python",
   "name": "python3"
  },
  "language_info": {
   "codemirror_mode": {
    "name": "ipython",
    "version": 3
   },
   "file_extension": ".py",
   "mimetype": "text/x-python",
   "name": "python",
   "nbconvert_exporter": "python",
   "pygments_lexer": "ipython3",
   "version": "3.8.8"
  }
 },
 "nbformat": 4,
 "nbformat_minor": 5
}
