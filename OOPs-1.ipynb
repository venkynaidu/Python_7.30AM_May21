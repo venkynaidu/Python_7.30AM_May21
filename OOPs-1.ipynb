{
 "cells": [
  {
   "cell_type": "code",
   "execution_count": 9,
   "id": "591b32a7",
   "metadata": {},
   "outputs": [
    {
     "name": "stdout",
     "output_type": "stream",
     "text": [
      "This is the constructor\n",
      "Student name is: Venky\n",
      "Student Marks: 90\n",
      "student ID: 1024\n"
     ]
    }
   ],
   "source": [
    "#creating class and instance method, instance variables\n",
    "class student:\n",
    "    '''This is doct string of student class\n",
    "    Student details will be created and display'''\n",
    "    def __init__(self):\n",
    "        print(\"This is the constructor\")\n",
    "        self.name=\"Venky\"\n",
    "        self.marks=90\n",
    "        self.id=1024\n",
    "    def details(self):\n",
    "        print(\"Student name is:\",self.name)\n",
    "        print(\"Student Marks:\",self.marks)\n",
    "        print(\"student ID:\",self.id)\n",
    "s=student()\n",
    "s.details()"
   ]
  },
  {
   "cell_type": "code",
   "execution_count": 10,
   "id": "362585ae",
   "metadata": {},
   "outputs": [
    {
     "name": "stdout",
     "output_type": "stream",
     "text": [
      "This is doct string of student class\n",
      "    Student details will be created and display\n"
     ]
    }
   ],
   "source": [
    "print(student.__doc__)"
   ]
  },
  {
   "cell_type": "markdown",
   "id": "b91196a2",
   "metadata": {},
   "source": [
    "# Self Variable:"
   ]
  },
  {
   "cell_type": "code",
   "execution_count": null,
   "id": "e04bbc8f",
   "metadata": {},
   "outputs": [],
   "source": [
    "self is the default variable which is always pointing to current object.\n",
    "By using self variable we can access instance variables and instance methods."
   ]
  },
  {
   "cell_type": "markdown",
   "id": "7ab0a50f",
   "metadata": {},
   "source": [
    "# Constructor"
   ]
  },
  {
   "cell_type": "code",
   "execution_count": null,
   "id": "633183cb",
   "metadata": {},
   "outputs": [],
   "source": [
    "1.Constructor is a special method in python.\n",
    "2. The name of the constructor should be __init__(self)\n",
    "3. Constructor will be executed automatically at the time of object creation.\n",
    "4. Main pirpose of constructor is to declare and initialise the instance\n",
    "   variables\n",
    "5. Per object constructor will be executed only once.\n",
    "6. Constructor can take atleast one argument i.e, self\n",
    "7. Constructor is optional if we are not providing any constructor python\n",
    "   creates a default constrcutor.\n"
   ]
  },
  {
   "cell_type": "code",
   "execution_count": 12,
   "id": "18af3894",
   "metadata": {},
   "outputs": [
    {
     "name": "stdout",
     "output_type": "stream",
     "text": [
      "This is the constructor\n",
      "Student name is: Vijay\n",
      "Student Marks: 90\n",
      "student ID: 1024\n"
     ]
    }
   ],
   "source": [
    "#creating class and instance method, instance variables\n",
    "class student:\n",
    "    '''This is doct string of student class\n",
    "    Student details will be created and display'''\n",
    "    def __init__(self,name,marks,ID):\n",
    "        print(\"This is the constructor\")\n",
    "        self.name=name\n",
    "        self.marks=marks\n",
    "        self.ID=ID\n",
    "    def details(self):\n",
    "        print(\"Student name is:\",self.name)\n",
    "        print(\"Student Marks:\",self.marks)\n",
    "        print(\"student ID:\",self.ID)\n",
    "s=student(\"Vijay\",90,1024)\n",
    "s.details()"
   ]
  },
  {
   "cell_type": "code",
   "execution_count": null,
   "id": "d01e3084",
   "metadata": {},
   "outputs": [],
   "source": []
  }
 ],
 "metadata": {
  "kernelspec": {
   "display_name": "Python 3",
   "language": "python",
   "name": "python3"
  },
  "language_info": {
   "codemirror_mode": {
    "name": "ipython",
    "version": 3
   },
   "file_extension": ".py",
   "mimetype": "text/x-python",
   "name": "python",
   "nbconvert_exporter": "python",
   "pygments_lexer": "ipython3",
   "version": "3.8.8"
  }
 },
 "nbformat": 4,
 "nbformat_minor": 5
}
