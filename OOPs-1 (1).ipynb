{
 "cells": [
  {
   "cell_type": "code",
   "execution_count": 9,
   "id": "591b32a7",
   "metadata": {},
   "outputs": [
    {
     "name": "stdout",
     "output_type": "stream",
     "text": [
      "This is the constructor\n",
      "Student name is: Venky\n",
      "Student Marks: 90\n",
      "student ID: 1024\n"
     ]
    }
   ],
   "source": [
    "#creating class and instance method, instance variables\n",
    "class student:\n",
    "    '''This is doct string of student class\n",
    "    Student details will be created and display'''\n",
    "    def __init__(self):\n",
    "        print(\"This is the constructor\")\n",
    "        self.name=\"Venky\"\n",
    "        self.marks=90\n",
    "        self.id=1024\n",
    "    def details(self):\n",
    "        print(\"Student name is:\",self.name)\n",
    "        print(\"Student Marks:\",self.marks)\n",
    "        print(\"student ID:\",self.id)\n",
    "s=student()\n",
    "s.details()"
   ]
  },
  {
   "cell_type": "code",
   "execution_count": 10,
   "id": "362585ae",
   "metadata": {},
   "outputs": [
    {
     "name": "stdout",
     "output_type": "stream",
     "text": [
      "This is doct string of student class\n",
      "    Student details will be created and display\n"
     ]
    }
   ],
   "source": [
    "print(student.__doc__)"
   ]
  },
  {
   "cell_type": "markdown",
   "id": "b91196a2",
   "metadata": {},
   "source": [
    "# Self Variable:"
   ]
  },
  {
   "cell_type": "code",
   "execution_count": null,
   "id": "e04bbc8f",
   "metadata": {},
   "outputs": [],
   "source": [
    "self is the default variable which is always pointing to current object.\n",
    "By using self variable we can access instance variables and instance methods."
   ]
  },
  {
   "cell_type": "markdown",
   "id": "7ab0a50f",
   "metadata": {},
   "source": [
    "# Constructor"
   ]
  },
  {
   "cell_type": "code",
   "execution_count": null,
   "id": "633183cb",
   "metadata": {},
   "outputs": [],
   "source": [
    "1.Constructor is a special method in python.\n",
    "2. The name of the constructor should be __init__(self)\n",
    "3. Constructor will be executed automatically at the time of object creation.\n",
    "4. Main pirpose of constructor is to declare and initialise the instance\n",
    "   variables\n",
    "5. Per object constructor will be executed only once.\n",
    "6. Constructor can take atleast one argument i.e, self\n",
    "7. Constructor is optional if we are not providing any constructor python\n",
    "   creates a default constrcutor.\n"
   ]
  },
  {
   "cell_type": "code",
   "execution_count": 12,
   "id": "18af3894",
   "metadata": {},
   "outputs": [
    {
     "name": "stdout",
     "output_type": "stream",
     "text": [
      "This is the constructor\n",
      "Student name is: Vijay\n",
      "Student Marks: 90\n",
      "student ID: 1024\n"
     ]
    }
   ],
   "source": [
    "#creating class and instance method, instance variables\n",
    "class student:\n",
    "    '''This is doct string of student class\n",
    "    Student details will be created and display'''\n",
    "    def __init__(self,name,marks,ID):\n",
    "        print(\"This is the constructor\")\n",
    "        self.name=name\n",
    "        self.marks=marks\n",
    "        self.ID=ID\n",
    "    def details(self):\n",
    "        print(\"Student name is:\",self.name)\n",
    "        print(\"Student Marks:\",self.marks)\n",
    "        print(\"student ID:\",self.ID)\n",
    "s=student(\"Vijay\",90,1024)\n",
    "s.details()"
   ]
  },
  {
   "cell_type": "markdown",
   "id": "4f92b206",
   "metadata": {},
   "source": [
    "# Types of Variables"
   ]
  },
  {
   "cell_type": "code",
   "execution_count": null,
   "id": "d01e3084",
   "metadata": {},
   "outputs": [],
   "source": [
    "1. Instance Variables(Object Level Variable)\n",
    "2. Static Variables(Class Level Variable)\n",
    "3. Local Variables(Method Level Variable)"
   ]
  },
  {
   "cell_type": "markdown",
   "id": "a9249251",
   "metadata": {},
   "source": [
    "# 1. Instance Variables"
   ]
  },
  {
   "cell_type": "code",
   "execution_count": null,
   "id": "7a6e8d3e",
   "metadata": {},
   "outputs": [],
   "source": [
    "If the value of variable varies from object to object ,then such type of variables are called instance variable.\n",
    "\n",
    "For every object a separate copy of instance variables will be created."
   ]
  },
  {
   "cell_type": "markdown",
   "id": "6b0caa08",
   "metadata": {},
   "source": [
    "# Where we can declare instance variables"
   ]
  },
  {
   "cell_type": "markdown",
   "id": "5927ae8d",
   "metadata": {},
   "source": [
    "1.Inside the constructor by using self vraiable\n",
    "2. Inside instance method by using self variable\n",
    "3. Outside of the class by using object reference variable"
   ]
  },
  {
   "cell_type": "markdown",
   "id": "5b359269",
   "metadata": {},
   "source": [
    "# 1. Inside Constructor by using self variable"
   ]
  },
  {
   "cell_type": "code",
   "execution_count": 6,
   "id": "a3f503ee",
   "metadata": {},
   "outputs": [
    {
     "name": "stdout",
     "output_type": "stream",
     "text": [
      "{'ename': 'Venky', 'eno': 1024, 'salary': 98000}\n",
      "{'ename': 'Venky', 'eno': 1024, 'salary': 98000}\n"
     ]
    }
   ],
   "source": [
    "#Example program for instance variable inside constructor\n",
    "class Employee:\n",
    "    def __init__(self):\n",
    "        self.ename=\"Venky\"\n",
    "        self.eno=1024\n",
    "        self.salary=98000\n",
    "e=Employee()\n",
    "print(e.__dict__)\n",
    "e1=Employee()\n",
    "print(e1.__dict__)"
   ]
  },
  {
   "cell_type": "markdown",
   "id": "df5ed47f",
   "metadata": {},
   "source": [
    "# 2. Inside Instance Method by using self variable"
   ]
  },
  {
   "cell_type": "code",
   "execution_count": 7,
   "id": "b9a208ae",
   "metadata": {},
   "outputs": [
    {
     "name": "stdout",
     "output_type": "stream",
     "text": [
      "{'a': 10, 'b': 20, 'c': 30}\n"
     ]
    }
   ],
   "source": [
    "#example program for instance variables inside instance method\n",
    "class Test:\n",
    "    def __init__(self):\n",
    "        self.a=10\n",
    "        self.b=20\n",
    "    def m(self):\n",
    "        self.c=30\n",
    "t=Test()\n",
    "t.m()\n",
    "print(t.__dict__)"
   ]
  },
  {
   "cell_type": "markdown",
   "id": "0458761d",
   "metadata": {},
   "source": [
    "# 3.  Outside of the class by using object reference variable"
   ]
  },
  {
   "cell_type": "code",
   "execution_count": 8,
   "id": "93d07789",
   "metadata": {},
   "outputs": [
    {
     "name": "stdout",
     "output_type": "stream",
     "text": [
      "{'a': 10, 'b': 20, 'c': 30, 'd': 40}\n"
     ]
    }
   ],
   "source": [
    "class Test:\n",
    "    def __init__(self):\n",
    "        self.a=10\n",
    "        self.b=20\n",
    "    def m(self):\n",
    "        self.c=30\n",
    "t=Test()\n",
    "t.m()\n",
    "t.d=40\n",
    "print(t.__dict__)"
   ]
  },
  {
   "cell_type": "markdown",
   "id": "3f60b695",
   "metadata": {},
   "source": [
    "# How to access Instance Variables"
   ]
  },
  {
   "cell_type": "code",
   "execution_count": null,
   "id": "7dc34de8",
   "metadata": {},
   "outputs": [],
   "source": [
    "We can access instance variables within the class by using self variable, outside of the class by using object reference variable.\n"
   ]
  },
  {
   "cell_type": "code",
   "execution_count": 9,
   "id": "ad84306f",
   "metadata": {},
   "outputs": [
    {
     "name": "stdout",
     "output_type": "stream",
     "text": [
      "A value inside constructor: 10\n",
      "constructor b value in instance method: 20\n",
      "c in instance method: 30\n"
     ]
    }
   ],
   "source": [
    "#example program to access instance variables from inside of the class\n",
    "class Test:\n",
    "    def __init__(self):    #constructor\n",
    "        self.a=10\n",
    "        self.b=20\n",
    "        print(\"A value inside constructor:\",self.a)\n",
    "    def m(self): #instance method\n",
    "        self.c=30\n",
    "        print(\"constructor b value in instance method:\",self.b)\n",
    "        print(\"c in instance method:\",self.c)\n",
    "        \n",
    "t=Test()\n",
    "t.m()\n"
   ]
  },
  {
   "cell_type": "code",
   "execution_count": 10,
   "id": "383a9ec0",
   "metadata": {},
   "outputs": [
    {
     "name": "stdout",
     "output_type": "stream",
     "text": [
      "Instance variable values of constructor in outside of the class: 10 20\n",
      "Instance variable values of instance method from outside of the class: 30 40\n"
     ]
    }
   ],
   "source": [
    "#example program to access instance variable from outside of the class\n",
    "class Test:\n",
    "    def __init__(self):\n",
    "        self.a=10\n",
    "        self.b=20\n",
    "    def m(self):\n",
    "        self.c=30\n",
    "        self.d=40\n",
    "t=Test()\n",
    "t.m()\n",
    "print(\"Instance variable values of constructor in outside of the class:\",t.a,t.b)\n",
    "print(\"Instance variable values of instance method from outside of the class:\",t.c,t.d)"
   ]
  },
  {
   "cell_type": "markdown",
   "id": "edf790ea",
   "metadata": {},
   "source": [
    "# How to delete instance variables from the object"
   ]
  },
  {
   "cell_type": "code",
   "execution_count": null,
   "id": "71f7b850",
   "metadata": {},
   "outputs": [],
   "source": [
    "1. within a class we can delete instance variables with the helf of self variable\n",
    "example: del self.variablename\n",
    "\n",
    "2. From outside of the class we can delete with the help of object reference variable\n",
    "example: del objectreference.variablename\n",
    "    "
   ]
  },
  {
   "cell_type": "code",
   "execution_count": 13,
   "id": "6ac047c8",
   "metadata": {},
   "outputs": [
    {
     "ename": "AttributeError",
     "evalue": "'Test' object has no attribute 'a'",
     "output_type": "error",
     "traceback": [
      "\u001b[1;31m---------------------------------------------------------------------------\u001b[0m",
      "\u001b[1;31mAttributeError\u001b[0m                            Traceback (most recent call last)",
      "\u001b[1;32m<ipython-input-13-97f986803c7e>\u001b[0m in \u001b[0;36m<module>\u001b[1;34m\u001b[0m\n\u001b[0;32m      8\u001b[0m         \u001b[0mprint\u001b[0m\u001b[1;33m(\u001b[0m\u001b[0mself\u001b[0m\u001b[1;33m.\u001b[0m\u001b[0ma\u001b[0m\u001b[1;33m)\u001b[0m\u001b[1;33m\u001b[0m\u001b[1;33m\u001b[0m\u001b[0m\n\u001b[0;32m      9\u001b[0m \u001b[0mt\u001b[0m\u001b[1;33m=\u001b[0m\u001b[0mTest\u001b[0m\u001b[1;33m(\u001b[0m\u001b[1;33m)\u001b[0m\u001b[1;33m\u001b[0m\u001b[1;33m\u001b[0m\u001b[0m\n\u001b[1;32m---> 10\u001b[1;33m \u001b[0mt\u001b[0m\u001b[1;33m.\u001b[0m\u001b[0mm\u001b[0m\u001b[1;33m(\u001b[0m\u001b[1;33m)\u001b[0m\u001b[1;33m\u001b[0m\u001b[1;33m\u001b[0m\u001b[0m\n\u001b[0m",
      "\u001b[1;32m<ipython-input-13-97f986803c7e>\u001b[0m in \u001b[0;36mm\u001b[1;34m(self)\u001b[0m\n\u001b[0;32m      6\u001b[0m     \u001b[1;32mdef\u001b[0m \u001b[0mm\u001b[0m\u001b[1;33m(\u001b[0m\u001b[0mself\u001b[0m\u001b[1;33m)\u001b[0m\u001b[1;33m:\u001b[0m\u001b[1;33m\u001b[0m\u001b[1;33m\u001b[0m\u001b[0m\n\u001b[0;32m      7\u001b[0m         \u001b[1;32mdel\u001b[0m \u001b[0mself\u001b[0m\u001b[1;33m.\u001b[0m\u001b[0ma\u001b[0m\u001b[1;33m\u001b[0m\u001b[1;33m\u001b[0m\u001b[0m\n\u001b[1;32m----> 8\u001b[1;33m         \u001b[0mprint\u001b[0m\u001b[1;33m(\u001b[0m\u001b[0mself\u001b[0m\u001b[1;33m.\u001b[0m\u001b[0ma\u001b[0m\u001b[1;33m)\u001b[0m\u001b[1;33m\u001b[0m\u001b[1;33m\u001b[0m\u001b[0m\n\u001b[0m\u001b[0;32m      9\u001b[0m \u001b[0mt\u001b[0m\u001b[1;33m=\u001b[0m\u001b[0mTest\u001b[0m\u001b[1;33m(\u001b[0m\u001b[1;33m)\u001b[0m\u001b[1;33m\u001b[0m\u001b[1;33m\u001b[0m\u001b[0m\n\u001b[0;32m     10\u001b[0m \u001b[0mt\u001b[0m\u001b[1;33m.\u001b[0m\u001b[0mm\u001b[0m\u001b[1;33m(\u001b[0m\u001b[1;33m)\u001b[0m\u001b[1;33m\u001b[0m\u001b[1;33m\u001b[0m\u001b[0m\n",
      "\u001b[1;31mAttributeError\u001b[0m: 'Test' object has no attribute 'a'"
     ]
    }
   ],
   "source": [
    "#Example Program to delete instance variables from inside of the class\n",
    "class Test:\n",
    "    def __init__(self):\n",
    "        self.a=10\n",
    "        self.b=20\n",
    "    def m(self):\n",
    "        del self.a\n",
    "        print(self.a)\n",
    "t=Test()\n",
    "t.m()"
   ]
  },
  {
   "cell_type": "code",
   "execution_count": 14,
   "id": "8992be21",
   "metadata": {},
   "outputs": [
    {
     "name": "stdout",
     "output_type": "stream",
     "text": [
      "20\n",
      "10\n"
     ]
    },
    {
     "ename": "AttributeError",
     "evalue": "'Test' object has no attribute 'b'",
     "output_type": "error",
     "traceback": [
      "\u001b[1;31m---------------------------------------------------------------------------\u001b[0m",
      "\u001b[1;31mAttributeError\u001b[0m                            Traceback (most recent call last)",
      "\u001b[1;32m<ipython-input-14-ab33bc7c2c94>\u001b[0m in \u001b[0;36m<module>\u001b[1;34m\u001b[0m\n\u001b[0;32m     11\u001b[0m \u001b[1;32mdel\u001b[0m \u001b[0mt\u001b[0m\u001b[1;33m.\u001b[0m\u001b[0ma\u001b[0m\u001b[1;33m\u001b[0m\u001b[1;33m\u001b[0m\u001b[0m\n\u001b[0;32m     12\u001b[0m \u001b[1;32mdel\u001b[0m \u001b[0mt\u001b[0m\u001b[1;33m.\u001b[0m\u001b[0mb\u001b[0m\u001b[1;33m\u001b[0m\u001b[1;33m\u001b[0m\u001b[0m\n\u001b[1;32m---> 13\u001b[1;33m \u001b[0mt\u001b[0m\u001b[1;33m.\u001b[0m\u001b[0mm\u001b[0m\u001b[1;33m(\u001b[0m\u001b[1;33m)\u001b[0m\u001b[1;33m\u001b[0m\u001b[1;33m\u001b[0m\u001b[0m\n\u001b[0m",
      "\u001b[1;32m<ipython-input-14-ab33bc7c2c94>\u001b[0m in \u001b[0;36mm\u001b[1;34m(self)\u001b[0m\n\u001b[0;32m      5\u001b[0m         \u001b[0mself\u001b[0m\u001b[1;33m.\u001b[0m\u001b[0mb\u001b[0m\u001b[1;33m=\u001b[0m\u001b[1;36m20\u001b[0m\u001b[1;33m\u001b[0m\u001b[1;33m\u001b[0m\u001b[0m\n\u001b[0;32m      6\u001b[0m     \u001b[1;32mdef\u001b[0m \u001b[0mm\u001b[0m\u001b[1;33m(\u001b[0m\u001b[0mself\u001b[0m\u001b[1;33m)\u001b[0m\u001b[1;33m:\u001b[0m\u001b[1;33m\u001b[0m\u001b[1;33m\u001b[0m\u001b[0m\n\u001b[1;32m----> 7\u001b[1;33m         \u001b[0mprint\u001b[0m\u001b[1;33m(\u001b[0m\u001b[0mself\u001b[0m\u001b[1;33m.\u001b[0m\u001b[0mb\u001b[0m\u001b[1;33m)\u001b[0m\u001b[1;33m\u001b[0m\u001b[1;33m\u001b[0m\u001b[0m\n\u001b[0m\u001b[0;32m      8\u001b[0m         \u001b[0mprint\u001b[0m\u001b[1;33m(\u001b[0m\u001b[0mself\u001b[0m\u001b[1;33m.\u001b[0m\u001b[0ma\u001b[0m\u001b[1;33m)\u001b[0m\u001b[1;33m\u001b[0m\u001b[1;33m\u001b[0m\u001b[0m\n\u001b[0;32m      9\u001b[0m \u001b[0mt\u001b[0m\u001b[1;33m=\u001b[0m\u001b[0mTest\u001b[0m\u001b[1;33m(\u001b[0m\u001b[1;33m)\u001b[0m\u001b[1;33m\u001b[0m\u001b[1;33m\u001b[0m\u001b[0m\n",
      "\u001b[1;31mAttributeError\u001b[0m: 'Test' object has no attribute 'b'"
     ]
    }
   ],
   "source": [
    "#Example Program to delete instance variables from outside of the class\n",
    "class Test:\n",
    "    def __init__(self):\n",
    "        self.a=10\n",
    "        self.b=20\n",
    "    def m(self):\n",
    "        print(self.b)\n",
    "        print(self.a)\n",
    "t=Test()\n",
    "t.m()\n",
    "del t.a\n",
    "del t.b\n",
    "t.m()"
   ]
  },
  {
   "cell_type": "markdown",
   "id": "a9dfc0b1",
   "metadata": {},
   "source": [
    "### Note: Instance variables which are deleted from one object will not be deleted from other object"
   ]
  },
  {
   "cell_type": "code",
   "execution_count": 18,
   "id": "1bf5fdcd",
   "metadata": {},
   "outputs": [
    {
     "name": "stdout",
     "output_type": "stream",
     "text": [
      "20\n",
      "10\n",
      "20\n",
      "10\n",
      "{}\n",
      "{'a': 10, 'b': 20}\n"
     ]
    }
   ],
   "source": [
    "#Example Program to delete instance variables from outside of the class from different object references\n",
    "class Test:\n",
    "    def __init__(self):\n",
    "        self.a=10\n",
    "        self.b=20\n",
    "    def m(self):\n",
    "        print(self.b) \n",
    "        print(self.a)\n",
    "t1=Test()\n",
    "t2=Test()\n",
    "t1.m()\n",
    "t2.m()\n",
    "del t1.a\n",
    "del t1.b\n",
    "\n",
    "print(t1.__dict__)\n",
    "print(t2.__dict__)"
   ]
  }
 ],
 "metadata": {
  "kernelspec": {
   "display_name": "Python 3",
   "language": "python",
   "name": "python3"
  },
  "language_info": {
   "codemirror_mode": {
    "name": "ipython",
    "version": 3
   },
   "file_extension": ".py",
   "mimetype": "text/x-python",
   "name": "python",
   "nbconvert_exporter": "python",
   "pygments_lexer": "ipython3",
   "version": "3.8.8"
  }
 },
 "nbformat": 4,
 "nbformat_minor": 5
}
