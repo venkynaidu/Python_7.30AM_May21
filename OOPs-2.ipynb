{
 "cells": [
  {
   "cell_type": "markdown",
   "id": "1e3f4fcd",
   "metadata": {},
   "source": [
    "# Topics"
   ]
  },
  {
   "cell_type": "code",
   "execution_count": null,
   "id": "a926b02e",
   "metadata": {},
   "outputs": [],
   "source": [
    "1.Inheritance\n",
    "2. Has-A Relationship\n",
    "3. Is-A Relationship\n",
    "4. Is-A Vs Has-A Relationship\n",
    "5. Composition vs Aggregation\n",
    "\n",
    "5. Types of Inheritance:\n",
    "    a. Single Inheritance\n",
    "    b. Multilevel Inheritance\n",
    "    c. Hierarchical Inheritance\n",
    "    d. Multiple Inheritance\n",
    "    e. Hybrid Inheritance\n",
    "    f. Cyclic Inheritance \n",
    "6. Method Resolution Order (MRO)\n",
    "7. Super() Method\n"
   ]
  },
  {
   "cell_type": "markdown",
   "id": "ae8878c2",
   "metadata": {},
   "source": [
    "# using Members of One class inside other class"
   ]
  },
  {
   "cell_type": "code",
   "execution_count": null,
   "id": "ea0039bf",
   "metadata": {},
   "outputs": [],
   "source": [
    "1. By Composition (Has-A Relationship)\n",
    "2. By Inheritance (Is - A Relationship)"
   ]
  },
  {
   "cell_type": "markdown",
   "id": "88c9c02c",
   "metadata": {},
   "source": [
    "# 1. By Composition (Has-A Relationship)"
   ]
  },
  {
   "cell_type": "code",
   "execution_count": null,
   "id": "bb9933e7",
   "metadata": {},
   "outputs": [],
   "source": [
    "By using class Name or by creating object we can access members of one class in another class is called composition.\n",
    "The main advantage of Has-A Relationship is code reusability."
   ]
  },
  {
   "cell_type": "code",
   "execution_count": 3,
   "id": "c848306c",
   "metadata": {},
   "outputs": [
    {
     "name": "stdout",
     "output_type": "stream",
     "text": [
      "Car class using Engine Class Functionality\n",
      "10\n",
      "20\n",
      "Engine is a main part of Car\n"
     ]
    }
   ],
   "source": [
    "#Example Program for Has-A Relationship\n",
    "class Engine:\n",
    "    a=10\n",
    "    def __init__(self):\n",
    "        self.b=20\n",
    "    def m1(self):\n",
    "        print(\"Engine is a main part of Car\")\n",
    "class Car:\n",
    "    def __init__(self):\n",
    "        self.object=Engine()\n",
    "    def m2(self):\n",
    "        print(\"Car class using Engine Class Functionality\")\n",
    "        print(self.object.a)\n",
    "        print(self.object.b)\n",
    "        self.object.m1()\n",
    "c=Car()\n",
    "c.m2()"
   ]
  },
  {
   "cell_type": "code",
   "execution_count": 2,
   "id": "79b92877",
   "metadata": {},
   "outputs": [
    {
     "name": "stdout",
     "output_type": "stream",
     "text": [
      "Car class using Engine Class Functionality\n",
      "30\n",
      "Engine is a main part of Car\n"
     ]
    }
   ],
   "source": [
    "#Example Program for Has-A Relationship\n",
    "class Engine:\n",
    "    a=10\n",
    "    def __init__(self):\n",
    "        self.b=20\n",
    "    def m1(self):\n",
    "        print(\"Engine is a main part of Car\")\n",
    "class Car:\n",
    "    def __init__(self):\n",
    "        self.engine=Engine()\n",
    "    def m2(self):\n",
    "        print(\"Car class using Engine Class Functionality\")\n",
    "        print(self.engine.a+self.engine.b)\n",
    "        self.engine.m1()\n",
    "c=Car()\n",
    "c.m2()"
   ]
  },
  {
   "cell_type": "markdown",
   "id": "afab865b",
   "metadata": {},
   "source": [
    "# Example-2"
   ]
  },
  {
   "cell_type": "code",
   "execution_count": 5,
   "id": "b3bf8bbe",
   "metadata": {},
   "outputs": [
    {
     "name": "stdout",
     "output_type": "stream",
     "text": [
      "Employee name: Venky\n",
      "Employee No: 1008\n",
      "Employee Car information:\n",
      "Car name: BMW\n",
      "Car Model: CD-501i\n",
      "Car Color: Blue\n"
     ]
    }
   ],
   "source": [
    "class Car:\n",
    "    def __init__(self,name,model,color):\n",
    "        self.name=name\n",
    "        self.model=model\n",
    "        self.color=color\n",
    "    def info(self):\n",
    "        print(\"Car name:\",self.name)\n",
    "        print(\"Car Model:\",self.model)\n",
    "        print(\"Car Color:\",self.color)\n",
    "class Employee:\n",
    "    def __init__(self,ename,eno,car):\n",
    "        self.ename=ename\n",
    "        self.eno=eno\n",
    "        self.car=car\n",
    "    def einfo(self):\n",
    "        print(\"Employee name:\",self.ename)\n",
    "        print(\"Employee No:\",self.eno)\n",
    "        print(\"Employee Car information:\")\n",
    "        self.car.info()\n",
    "c=Car(\"BMW\",\"CD-501i\",\"Blue\")\n",
    "e=Employee(\"Venky\",1008,c)\n",
    "e.einfo()\n",
    "    "
   ]
  },
  {
   "cell_type": "markdown",
   "id": "a5c70c83",
   "metadata": {},
   "source": [
    "# Example=3"
   ]
  },
  {
   "cell_type": "code",
   "execution_count": 4,
   "id": "e3a3f778",
   "metadata": {},
   "outputs": [
    {
     "name": "stdout",
     "output_type": "stream",
     "text": [
      "a value of class X in class Y: 10\n",
      "b value of class X in class Y: 20\n",
      "m1 method of X class\n",
      "c value of class Y is: 30\n",
      "d value of class Y is: 40\n",
      "m2 method of Y class\n",
      "m2 method of class Y\n"
     ]
    }
   ],
   "source": [
    "class X:\n",
    "    a=10\n",
    "    def __init__(self):\n",
    "        self.b=20\n",
    "    def m1(self):\n",
    "        print(\"m1 method of X class\")\n",
    "class Y:\n",
    "    c=30\n",
    "    def __init__(self):\n",
    "        self.d=40\n",
    "    def m2(self):\n",
    "        print(\"m2 method of Y class\")\n",
    "    def m3(self):\n",
    "        x1=X()\n",
    "        print(\"a value of class X in class Y:\",x1.a)\n",
    "        print(\"b value of class X in class Y:\",x1.b)\n",
    "        x1.m1() # calling of m1 of class x in class y with object reference\n",
    "        print(\"c value of class Y is:\",Y.c)\n",
    "        print(\"d value of class Y is:\",self.d)\n",
    "        self.m2()\n",
    "        print(\"m2 method of class Y\")\n",
    "y1=Y()\n",
    "y1.m3()\n",
    "        \n",
    "        "
   ]
  },
  {
   "cell_type": "markdown",
   "id": "64f5b0d8",
   "metadata": {},
   "source": [
    "# 2. By Inheritance (Is-A Relationship)"
   ]
  },
  {
   "cell_type": "code",
   "execution_count": null,
   "id": "c2c8341f",
   "metadata": {},
   "outputs": [],
   "source": [
    "whatever the variables, methods , constructors available in parent class by defalut available to child  and we are not required\n",
    "to rewrite. \n",
    "We can extend the functionality with some more extra functionality."
   ]
  },
  {
   "cell_type": "code",
   "execution_count": 7,
   "id": "470f1fcc",
   "metadata": {},
   "outputs": [
    {
     "name": "stdout",
     "output_type": "stream",
     "text": [
      "a value of parent class : 10\n",
      "b value of parent class: 20\n",
      "Parent Instance Method\n",
      "Parent class method\n",
      "Parent class static method\n"
     ]
    }
   ],
   "source": [
    "class Parent:\n",
    "    a=10\n",
    "    def __init__(self):\n",
    "        self.b=20\n",
    "    def m1(self):\n",
    "        print(\"Parent Instance Method\")\n",
    "    @classmethod\n",
    "    def m2(cls):\n",
    "        print(\"Parent class method\")\n",
    "    @staticmethod\n",
    "    def m3():\n",
    "        print(\"Parent class static method\")\n",
    "class child(Parent):\n",
    "    pass\n",
    "\n",
    "c=child()\n",
    "print(\"a value of parent class :\",c.a)\n",
    "print(\"b value of parent class:\",c.b)\n",
    "c.m1()\n",
    "c.m2()\n",
    "c.m3()"
   ]
  },
  {
   "cell_type": "markdown",
   "id": "62cb96c3",
   "metadata": {},
   "source": [
    "# IS-A vs Has A Relationship"
   ]
  },
  {
   "cell_type": "code",
   "execution_count": null,
   "id": "6ae747e8",
   "metadata": {},
   "outputs": [],
   "source": [
    "1. If we want to extend the existing functionality with some extra functionality then we should go for IS-A Relationship.\n",
    "2. IF we dont want to extend and just we have to use the existing functionality then we should go for Has-A Relationship."
   ]
  },
  {
   "cell_type": "code",
   "execution_count": 6,
   "id": "8be8d6b4",
   "metadata": {},
   "outputs": [
    {
     "name": "stdout",
     "output_type": "stream",
     "text": [
      "Drink Beer and Eat Bhriyani\n",
      "Python Application developer at Venkys IT\n",
      "Employee Name: Shaheed\n",
      "Employee Age: 20\n",
      "Employee Number: 1024\n",
      "Employee Salary: 98000\n",
      "Car Information:\n",
      "Car Name: BMW\n",
      "Car Model: VX-3.8D\n",
      "Car Color: Blue\n"
     ]
    }
   ],
   "source": [
    "class Car:\n",
    "    def __init__(self,name,model,color):\n",
    "        self.name=name\n",
    "        self.model=model\n",
    "        self.color=color\n",
    "        \n",
    "    def carinfo(self):\n",
    "        print(\"Car Name:\",self.name)\n",
    "        print(\"Car Model:\",self.model)\n",
    "        print(\"Car Color:\",self.color)\n",
    "        \n",
    "        \n",
    "class Person:\n",
    "    def __init__(self,name,age):\n",
    "        self.name=name\n",
    "        self.age=age\n",
    "    def eatanddrink(self):\n",
    "        print(\"Drink Beer and Eat Bhiryani\")\n",
    "    \n",
    "class Employee(Person):\n",
    "    def  __init__(self,name,age,eno,esal,car):\n",
    "        super().__init__(name,age)\n",
    "        #self.name=name\n",
    "        #self.age=age\n",
    "        self.eno=eno\n",
    "        self.esal=esal\n",
    "        self.car=car\n",
    "    def work(self):\n",
    "        print(\"Python Application developer at Venkys IT\")\n",
    "    def einfo(self):\n",
    "        print(\"Employee Name:\",self.name)\n",
    "        print(\"Employee Age:\",self.age)\n",
    "        print(\"Employee Number:\",self.eno)\n",
    "        print(\"Employee Salary:\",self.esal)\n",
    "        print(\"Car Information:\")\n",
    "        self.car.carinfo()\n",
    "c=Car(\"BMW\",\"VX-3.8D\",\"Blue\")\n",
    "e=Employee(\"Shaheed\",20,1024,98000,c)\n",
    "e.eatanddrink()\n",
    "e.work()\n",
    "e.einfo()\n",
    "\n",
    "        \n",
    "        "
   ]
  },
  {
   "cell_type": "markdown",
   "id": "209a5e06",
   "metadata": {},
   "source": [
    "# Composition vs Aggregation"
   ]
  },
  {
   "cell_type": "markdown",
   "id": "a46bbb25",
   "metadata": {},
   "source": [
    "# Composition"
   ]
  },
  {
   "cell_type": "code",
   "execution_count": null,
   "id": "70f785fc",
   "metadata": {},
   "outputs": [],
   "source": [
    "Without existing container object if ther no chance of existing contained object then container object and contained objects\n",
    "are strongly associated and that strong association is called Composition.\n"
   ]
  },
  {
   "cell_type": "markdown",
   "id": "34085c0b",
   "metadata": {},
   "source": [
    "# Aggregation:"
   ]
  },
  {
   "cell_type": "code",
   "execution_count": null,
   "id": "b10d59ea",
   "metadata": {},
   "outputs": [],
   "source": [
    "Without existing container object if there is a chance of existing contained object then container object and contained objects\n",
    "are weakly associated is called aggregation."
   ]
  },
  {
   "cell_type": "code",
   "execution_count": 7,
   "id": "8abe9fa5",
   "metadata": {},
   "outputs": [
    {
     "name": "stdout",
     "output_type": "stream",
     "text": [
      "JNTUH\n",
      "Venky\n"
     ]
    }
   ],
   "source": [
    "#Example program for composition and aggregation\n",
    "class Student:\n",
    "    collegename=\"JNTUH\"\n",
    "    def __init__(self,name):\n",
    "        self.name=name\n",
    "print(Student.collegename)\n",
    "s=Student(\"Venky\")\n",
    "print(s.name)"
   ]
  },
  {
   "cell_type": "markdown",
   "id": "fddce829",
   "metadata": {},
   "source": [
    "# Types of Inheritance"
   ]
  },
  {
   "cell_type": "markdown",
   "id": "2ac040ce",
   "metadata": {},
   "source": [
    "# 1. Single Inheritance"
   ]
  },
  {
   "cell_type": "code",
   "execution_count": null,
   "id": "5b6737cc",
   "metadata": {},
   "outputs": [],
   "source": [
    "Inheriting the properties of one class to another class is called single inheritance"
   ]
  },
  {
   "cell_type": "code",
   "execution_count": 8,
   "id": "54b9df9e",
   "metadata": {},
   "outputs": [
    {
     "name": "stdout",
     "output_type": "stream",
     "text": [
      "Parent class Method1\n",
      "Child Class Method2\n"
     ]
    }
   ],
   "source": [
    "class P:\n",
    "    def m1(self):\n",
    "        print(\"Parent class Method1\")\n",
    "class C(P):\n",
    "    def m2(self):\n",
    "        print(\"Child Class Method2\")\n",
    "c=C()\n",
    "c.m1()\n",
    "c.m2()"
   ]
  },
  {
   "cell_type": "markdown",
   "id": "ab9c3919",
   "metadata": {},
   "source": [
    "# 2. Multilevel Inheritance"
   ]
  },
  {
   "cell_type": "code",
   "execution_count": null,
   "id": "d92e89bb",
   "metadata": {},
   "outputs": [],
   "source": [
    "The concept of ineriting the properties from multiple class to single class is called multilevel inheritance"
   ]
  },
  {
   "cell_type": "code",
   "execution_count": 9,
   "id": "030d611a",
   "metadata": {},
   "outputs": [
    {
     "name": "stdout",
     "output_type": "stream",
     "text": [
      "Parent Method\n",
      "Child1 class method\n",
      "Child2 class method\n"
     ]
    }
   ],
   "source": [
    "class P:\n",
    "    def m1(self):\n",
    "        print(\"Parent Method\")\n",
    "class C1(P):\n",
    "    def m2(self):\n",
    "        print(\"Child1 class method\")\n",
    "class C2(C1):\n",
    "    def m3(self):\n",
    "        print(\"Child2 class method\")\n",
    "        \n",
    "c=C2()\n",
    "c.m1()\n",
    "c.m2()\n",
    "c.m3()"
   ]
  },
  {
   "cell_type": "markdown",
   "id": "b945f42f",
   "metadata": {},
   "source": [
    "# Hierarchical Inheritance"
   ]
  },
  {
   "cell_type": "code",
   "execution_count": null,
   "id": "831e92c5",
   "metadata": {},
   "outputs": [],
   "source": [
    "The concept of ineriting the properties from one class to multiple classes which are present at same level is known \n",
    "as hierarchical inheritance"
   ]
  },
  {
   "cell_type": "code",
   "execution_count": 1,
   "id": "16839729",
   "metadata": {},
   "outputs": [
    {
     "name": "stdout",
     "output_type": "stream",
     "text": [
      "Parent method\n",
      "child class1 method\n",
      "Parent method\n",
      "Child class 2 method\n"
     ]
    }
   ],
   "source": [
    "#example program for hierarchical inheritance\n",
    "class P:\n",
    "    def m1(self):\n",
    "        print(\"Parent method\")\n",
    "class C1(P):\n",
    "    def m2(self):\n",
    "        print(\"child class1 method\")\n",
    "class C2(P):\n",
    "    def m3(self):\n",
    "        print(\"Child class 2 method\")\n",
    "c1=C1()\n",
    "c1.m1()\n",
    "c1.m2()\n",
    "c2=C2()\n",
    "c2.m1()\n",
    "c2.m3()\n",
    "        \n"
   ]
  },
  {
   "cell_type": "markdown",
   "id": "e3e07eb5",
   "metadata": {},
   "source": [
    "# 4. Multiple Inheritance"
   ]
  },
  {
   "cell_type": "code",
   "execution_count": null,
   "id": "6871d433",
   "metadata": {},
   "outputs": [],
   "source": [
    "The concept of inheriting the properties from multiple classes into single class at a time , is know as multiple inheritance"
   ]
  },
  {
   "cell_type": "code",
   "execution_count": 2,
   "id": "4eab8b29",
   "metadata": {},
   "outputs": [
    {
     "name": "stdout",
     "output_type": "stream",
     "text": [
      "Parent1 method\n",
      "Parent2 Mehtod\n",
      "Child class method\n"
     ]
    }
   ],
   "source": [
    "#example program for multiple inheritance\n",
    "class P1:\n",
    "    def m1(self):\n",
    "        print(\"Parent1 method\")\n",
    "class P2:\n",
    "    def m2(self):\n",
    "        print(\"Parent2 Mehtod\")\n",
    "class C(P1,P2):\n",
    "    def m3(self):\n",
    "        print(\"Child class method\")\n",
    "        \n",
    "c=C()\n",
    "c.m1()\n",
    "c.m2()\n",
    "c.m3()"
   ]
  },
  {
   "cell_type": "code",
   "execution_count": 5,
   "id": "a2d655a1",
   "metadata": {},
   "outputs": [
    {
     "name": "stdout",
     "output_type": "stream",
     "text": [
      "Parent1 method\n",
      "Child class method\n"
     ]
    }
   ],
   "source": [
    "#example program for multiple inheritance\n",
    "class P1:\n",
    "    def m1(self):\n",
    "        print(\"Parent1 method\")\n",
    "class P2:\n",
    "    def m2(self):\n",
    "        print(\"Parent2 Mehtod\")\n",
    "class C(P2,P1):\n",
    "    def m3(self):\n",
    "        print(\"Child class method\")\n",
    "        \n",
    "c=C()\n",
    "c.m1()\n",
    "#c.m2()\n",
    "c.m3()"
   ]
  },
  {
   "cell_type": "markdown",
   "id": "590479d0",
   "metadata": {},
   "source": [
    "# Hybrid Inheritance"
   ]
  },
  {
   "cell_type": "code",
   "execution_count": null,
   "id": "cada638f",
   "metadata": {},
   "outputs": [],
   "source": []
  },
  {
   "cell_type": "markdown",
   "id": "55279cbb",
   "metadata": {},
   "source": [
    "# Cyclic Inheritance"
   ]
  },
  {
   "cell_type": "code",
   "execution_count": null,
   "id": "a6279656",
   "metadata": {},
   "outputs": [],
   "source": [
    "The concept of inheriting properties of one class to other class in cyclic way\n",
    "But its not possible in python. "
   ]
  },
  {
   "cell_type": "code",
   "execution_count": 6,
   "id": "13c7c6f4",
   "metadata": {},
   "outputs": [
    {
     "ename": "NameError",
     "evalue": "name 'B' is not defined",
     "output_type": "error",
     "traceback": [
      "\u001b[1;31m---------------------------------------------------------------------------\u001b[0m",
      "\u001b[1;31mNameError\u001b[0m                                 Traceback (most recent call last)",
      "\u001b[1;32m<ipython-input-6-b9551c64f5fc>\u001b[0m in \u001b[0;36m<module>\u001b[1;34m\u001b[0m\n\u001b[1;32m----> 1\u001b[1;33m \u001b[1;32mclass\u001b[0m \u001b[0mA\u001b[0m\u001b[1;33m(\u001b[0m\u001b[0mB\u001b[0m\u001b[1;33m)\u001b[0m\u001b[1;33m:\u001b[0m\u001b[1;33m\u001b[0m\u001b[1;33m\u001b[0m\u001b[0m\n\u001b[0m\u001b[0;32m      2\u001b[0m     \u001b[1;32mpass\u001b[0m\u001b[1;33m\u001b[0m\u001b[1;33m\u001b[0m\u001b[0m\n\u001b[0;32m      3\u001b[0m \u001b[1;32mclass\u001b[0m \u001b[0mB\u001b[0m\u001b[1;33m(\u001b[0m\u001b[0mA\u001b[0m\u001b[1;33m)\u001b[0m\u001b[1;33m:\u001b[0m\u001b[1;33m\u001b[0m\u001b[1;33m\u001b[0m\u001b[0m\n\u001b[0;32m      4\u001b[0m     \u001b[1;32mpass\u001b[0m\u001b[1;33m\u001b[0m\u001b[1;33m\u001b[0m\u001b[0m\n",
      "\u001b[1;31mNameError\u001b[0m: name 'B' is not defined"
     ]
    }
   ],
   "source": [
    "class A(B):\n",
    "    pass\n",
    "class B(A):\n",
    "    pass"
   ]
  },
  {
   "cell_type": "code",
   "execution_count": 7,
   "id": "77ba23d9",
   "metadata": {},
   "outputs": [
    {
     "ename": "NameError",
     "evalue": "name 'A' is not defined",
     "output_type": "error",
     "traceback": [
      "\u001b[1;31m---------------------------------------------------------------------------\u001b[0m",
      "\u001b[1;31mNameError\u001b[0m                                 Traceback (most recent call last)",
      "\u001b[1;32m<ipython-input-7-80814c614550>\u001b[0m in \u001b[0;36m<module>\u001b[1;34m\u001b[0m\n\u001b[1;32m----> 1\u001b[1;33m \u001b[1;32mclass\u001b[0m \u001b[0mA\u001b[0m\u001b[1;33m(\u001b[0m\u001b[0mA\u001b[0m\u001b[1;33m)\u001b[0m\u001b[1;33m:\u001b[0m\u001b[1;33m\u001b[0m\u001b[1;33m\u001b[0m\u001b[0m\n\u001b[0m\u001b[0;32m      2\u001b[0m     \u001b[1;32mpass\u001b[0m\u001b[1;33m\u001b[0m\u001b[1;33m\u001b[0m\u001b[0m\n",
      "\u001b[1;31mNameError\u001b[0m: name 'A' is not defined"
     ]
    }
   ],
   "source": [
    "class A(A):\n",
    "    pass\n"
   ]
  },
  {
   "cell_type": "markdown",
   "id": "a49ceddd",
   "metadata": {},
   "source": [
    "# Method Resolution Order(MRO)"
   ]
  },
  {
   "cell_type": "code",
   "execution_count": 12,
   "id": "92884ace",
   "metadata": {},
   "outputs": [
    {
     "name": "stdout",
     "output_type": "stream",
     "text": [
      "[<class '__main__.A'>, <class 'object'>]\n",
      "[<class '__main__.B'>, <class '__main__.A'>, <class 'object'>]\n",
      "[<class '__main__.C'>, <class '__main__.A'>, <class 'object'>]\n",
      "[<class '__main__.D'>, <class '__main__.B'>, <class '__main__.C'>, <class '__main__.A'>, <class 'object'>]\n"
     ]
    }
   ],
   "source": [
    "class A:\n",
    "    pass\n",
    "class B(A):\n",
    "    pass\n",
    "class C(A):\n",
    "    pass\n",
    "class D(B,C):\n",
    "    pass\n",
    "print(A.mro())\n",
    "print(B.mro())\n",
    "print(C.mro())\n",
    "print(D.mro())"
   ]
  },
  {
   "cell_type": "markdown",
   "id": "f83da8cf",
   "metadata": {},
   "source": [
    "# super() method"
   ]
  },
  {
   "cell_type": "code",
   "execution_count": null,
   "id": "7de4aff0",
   "metadata": {},
   "outputs": [],
   "source": [
    "super() method is inbuilt method used to call the super class constructors,variables,methods from child class\n"
   ]
  },
  {
   "cell_type": "code",
   "execution_count": 14,
   "id": "24a25752",
   "metadata": {},
   "outputs": [
    {
     "name": "stdout",
     "output_type": "stream",
     "text": [
      "name is: Venky\n",
      "Age is: 28\n",
      "Roll No: 1024\n",
      "Marks: 80\n"
     ]
    }
   ],
   "source": [
    "class Person:\n",
    "    def __init__(self,name,age):\n",
    "        self.name=name\n",
    "        self.age=age\n",
    "    def display1(self):\n",
    "        print(\"name is:\",self.name)\n",
    "        print(\"Age is:\",self.age)\n",
    "class Student(Person):\n",
    "    def __init__(self,name,age,rollno,marks):\n",
    "        super().__init__(name,age)\n",
    "        self.rollno=rollno\n",
    "        self.marks=marks\n",
    "    def display(self):\n",
    "        super().display1()\n",
    "        print(\"Roll No:\",self.rollno)\n",
    "        print(\"Marks:\",self.marks)\n",
    "s1=Student(\"Venky\",28,1024,80)\n",
    "s1.display()\n",
    "    \n",
    "    "
   ]
  }
 ],
 "metadata": {
  "kernelspec": {
   "display_name": "Python 3",
   "language": "python",
   "name": "python3"
  },
  "language_info": {
   "codemirror_mode": {
    "name": "ipython",
    "version": 3
   },
   "file_extension": ".py",
   "mimetype": "text/x-python",
   "name": "python",
   "nbconvert_exporter": "python",
   "pygments_lexer": "ipython3",
   "version": "3.8.8"
  }
 },
 "nbformat": 4,
 "nbformat_minor": 5
}
